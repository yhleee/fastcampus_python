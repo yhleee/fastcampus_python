{
 "cells": [
  {
   "cell_type": "markdown",
   "metadata": {},
   "source": [
    "[윤기태 / 패스트캠퍼스] 최종 수정일 : 2018. 04. 18"
   ]
  },
  {
   "cell_type": "markdown",
   "metadata": {},
   "source": [
    "## 데이터 분석을 위한 파이썬 프로그래밍 CAMP - 8회차"
   ]
  },
  {
   "cell_type": "markdown",
   "metadata": {},
   "source": [
    "### *개발 환경 및 사용 라이브러리*\n",
    "- 개발환경 : OSX 10.13.2, Anaconda-spyder IDE\n",
    "- 개발언어 : Python 3.6.1\n",
    "- 사용모듈 : pandas, numpy, matplotlib"
   ]
  },
  {
   "cell_type": "markdown",
   "metadata": {},
   "source": [
    "---\n",
    "***"
   ]
  },
  {
   "cell_type": "code",
   "execution_count": 3,
   "metadata": {},
   "outputs": [],
   "source": [
    "%matplotlib inline\n",
    "import pandas as pd\n",
    "import numpy as np\n",
    "import matplotlib.pyplot as plt"
   ]
  },
  {
   "cell_type": "markdown",
   "metadata": {},
   "source": [
    "# 3) Example"
   ]
  },
  {
   "cell_type": "code",
   "execution_count": 4,
   "metadata": {},
   "outputs": [
    {
     "data": {
      "text/html": [
       "<div>\n",
       "<style scoped>\n",
       "    .dataframe tbody tr th:only-of-type {\n",
       "        vertical-align: middle;\n",
       "    }\n",
       "\n",
       "    .dataframe tbody tr th {\n",
       "        vertical-align: top;\n",
       "    }\n",
       "\n",
       "    .dataframe thead th {\n",
       "        text-align: right;\n",
       "    }\n",
       "</style>\n",
       "<table border=\"1\" class=\"dataframe\">\n",
       "  <thead>\n",
       "    <tr style=\"text-align: right;\">\n",
       "      <th></th>\n",
       "      <th>country</th>\n",
       "      <th>beer_servings</th>\n",
       "      <th>spirit_servings</th>\n",
       "      <th>wine_servings</th>\n",
       "      <th>total_litres_of_pure_alcohol</th>\n",
       "      <th>continent</th>\n",
       "    </tr>\n",
       "  </thead>\n",
       "  <tbody>\n",
       "    <tr>\n",
       "      <th>0</th>\n",
       "      <td>Afghanistan</td>\n",
       "      <td>0</td>\n",
       "      <td>0</td>\n",
       "      <td>0</td>\n",
       "      <td>0.0</td>\n",
       "      <td>AS</td>\n",
       "    </tr>\n",
       "    <tr>\n",
       "      <th>1</th>\n",
       "      <td>Albania</td>\n",
       "      <td>89</td>\n",
       "      <td>132</td>\n",
       "      <td>54</td>\n",
       "      <td>4.9</td>\n",
       "      <td>EU</td>\n",
       "    </tr>\n",
       "    <tr>\n",
       "      <th>2</th>\n",
       "      <td>Algeria</td>\n",
       "      <td>25</td>\n",
       "      <td>0</td>\n",
       "      <td>14</td>\n",
       "      <td>0.7</td>\n",
       "      <td>AF</td>\n",
       "    </tr>\n",
       "    <tr>\n",
       "      <th>3</th>\n",
       "      <td>Andorra</td>\n",
       "      <td>245</td>\n",
       "      <td>138</td>\n",
       "      <td>312</td>\n",
       "      <td>12.4</td>\n",
       "      <td>EU</td>\n",
       "    </tr>\n",
       "    <tr>\n",
       "      <th>4</th>\n",
       "      <td>Angola</td>\n",
       "      <td>217</td>\n",
       "      <td>57</td>\n",
       "      <td>45</td>\n",
       "      <td>5.9</td>\n",
       "      <td>AF</td>\n",
       "    </tr>\n",
       "  </tbody>\n",
       "</table>\n",
       "</div>"
      ],
      "text/plain": [
       "       country  beer_servings  spirit_servings  wine_servings  \\\n",
       "0  Afghanistan              0                0              0   \n",
       "1      Albania             89              132             54   \n",
       "2      Algeria             25                0             14   \n",
       "3      Andorra            245              138            312   \n",
       "4       Angola            217               57             45   \n",
       "\n",
       "   total_litres_of_pure_alcohol continent  \n",
       "0                           0.0        AS  \n",
       "1                           4.9        EU  \n",
       "2                           0.7        AF  \n",
       "3                          12.4        EU  \n",
       "4                           5.9        AF  "
      ]
     },
     "execution_count": 4,
     "metadata": {},
     "output_type": "execute_result"
    }
   ],
   "source": [
    "drinks = pd.read_csv('https://raw.githubusercontent.com/justmarkham/DAT8/master/data/drinks.csv')\n",
    "drinks.head()"
   ]
  },
  {
   "cell_type": "markdown",
   "metadata": {},
   "source": [
    "### 3-1) pie chart 활용"
   ]
  },
  {
   "cell_type": "code",
   "execution_count": 5,
   "metadata": {},
   "outputs": [],
   "source": [
    "# 결측데이터 처리하기 : 기타 대륙으로 통합\n",
    "drinks.isnull().sum()\n",
    "drinks.dtypes\n",
    "drinks['continent'] = drinks['continent'].astype(str)\n",
    "drinks = drinks.replace('nan', 'OT', regex=True)"
   ]
  },
  {
   "cell_type": "code",
   "execution_count": 15,
   "metadata": {},
   "outputs": [
    {
     "name": "stdout",
     "output_type": "stream",
     "text": [
      "['AS', 'EU', 'AF', 'OT', 'SA', 'OC']\n",
      "AF    53\n",
      "EU    45\n",
      "AS    44\n",
      "OT    23\n",
      "OC    16\n",
      "SA    12\n",
      "Name: continent, dtype: int64\n"
     ]
    }
   ],
   "source": [
    "print(drinks['continent'].unique().tolist())\n",
    "print(drinks['continent'].value_counts())"
   ]
  },
  {
   "cell_type": "code",
   "execution_count": 16,
   "metadata": {},
   "outputs": [
    {
     "name": "stdout",
     "output_type": "stream",
     "text": [
      "['AF', 'EU', 'AS', 'OT', 'OC', 'SA']\n",
      "[53, 45, 44, 23, 16, 12]\n"
     ]
    }
   ],
   "source": [
    "print(drinks['continent'].value_counts().index.tolist())\n",
    "print(drinks['continent'].value_counts().values.tolist())"
   ]
  },
  {
   "cell_type": "code",
   "execution_count": 30,
   "metadata": {},
   "outputs": [
    {
     "data": {
      "image/png": "[encoded data removed]",
      "text/plain": [
       "<matplotlib.figure.Figure at 0x115748c50>"
      ]
     },
     "metadata": {},
     "output_type": "display_data"
    }
   ],
   "source": [
    "from matplotlib.gridspec import GridSpec\n",
    "import matplotlib as mpl\n",
    "mpl.rc('font', family='08SeoulHangang')\n",
    "mpl.rc('axes', unicode_minus=False)\n",
    "\n",
    "labels = drinks['continent'].value_counts().index.tolist()\n",
    "fracs1 = drinks['continent'].value_counts().values.tolist()\n",
    "explode = (0, 0, 0, 0.25, 0, 0)\n",
    "\n",
    "plt.pie(fracs1, explode=explode, labels=labels, autopct='%.0f%%', shadow=True)\n",
    "plt.title('결측 데이터는 \\'OT\\'로 처리')\n",
    "plt.show()"
   ]
  },
  {
   "cell_type": "markdown",
   "metadata": {},
   "source": [
    "### 3-2) bar chart 활용"
   ]
  },
  {
   "cell_type": "code",
   "execution_count": 31,
   "metadata": {},
   "outputs": [],
   "source": [
    "# 전체 평균보다 많은 알코올을 섭취하는 대륙 구하기\n",
    "total_mean = drinks.total_litres_of_pure_alcohol.mean()\n",
    "continent_mean = drinks.groupby('continent').total_litres_of_pure_alcohol.mean()\n",
    "continent_over_mean = continent_mean[continent_mean >= total_mean]"
   ]
  },
  {
   "cell_type": "code",
   "execution_count": 46,
   "metadata": {},
   "outputs": [
    {
     "data": {
      "image/png": "[encoded data removed]",
      "text/plain": [
       "<matplotlib.figure.Figure at 0x1150360b8>"
      ]
     },
     "metadata": {},
     "output_type": "display_data"
    }
   ],
   "source": [
    "continents = continent_mean.index.tolist()\n",
    "y_pos = np.arange(len(continents))\n",
    "alcohol = continent_mean.tolist()\n",
    " \n",
    "plt.bar(y_pos, alcohol, align='center', alpha=0.5)\n",
    "plt.xticks(y_pos, continents)\n",
    "plt.ylabel('알코올 섭취량')\n",
    "plt.title('국가별 알코올 섭취량')\n",
    " \n",
    "plt.show()"
   ]
  },
  {
   "cell_type": "code",
   "execution_count": 45,
   "metadata": {},
   "outputs": [
    {
     "data": {
      "image/png": "[encoded data removed]",
      "text/plain": [
       "<matplotlib.figure.Figure at 0x114f3bef0>"
      ]
     },
     "metadata": {},
     "output_type": "display_data"
    }
   ],
   "source": [
    "continents = continent_mean.index.tolist()\n",
    "continents.append('mean')\n",
    "y_pos = np.arange(len(continents))\n",
    "alcohol = continent_mean.tolist()\n",
    "alcohol.append(total_mean)\n",
    " \n",
    "bar_list = plt.bar(y_pos, alcohol, align='center', alpha=0.5)\n",
    "bar_list[len(continents) - 1].set_color('r')\n",
    "plt.plot([0., 6], [total_mean, total_mean], \"k--\")\n",
    "plt.xticks(y_pos, continents)\n",
    "\n",
    "plt.ylabel('알코올 섭취량')\n",
    "plt.title('국가별 알코올 섭취량')\n",
    " \n",
    "plt.show()"
   ]
  },
  {
   "cell_type": "code",
   "execution_count": 52,
   "metadata": {},
   "outputs": [
    {
     "name": "stdout",
     "output_type": "stream",
     "text": [
      "EU\n"
     ]
    }
   ],
   "source": [
    "# 평균 beer_servings이 가장 높은 대륙 구하기\n",
    "continent_group = drinks.groupby('continent')\n",
    "beer_continent = continent_group.beer_servings.mean().idxmax()\n",
    "print(beer_continent)"
   ]
  },
  {
   "cell_type": "code",
   "execution_count": 56,
   "metadata": {},
   "outputs": [
    {
     "data": {
      "image/png": "[encoded data removed]",
      "text/plain": [
       "<matplotlib.figure.Figure at 0x1156af390>"
      ]
     },
     "metadata": {},
     "output_type": "display_data"
    }
   ],
   "source": [
    "beer_group = drinks.groupby('continent')['beer_servings'].sum()\n",
    "continents = beer_group.index.tolist()\n",
    "y_pos = np.arange(len(continents))\n",
    "alcohol = beer_group.tolist()\n",
    " \n",
    "bar_list = plt.bar(y_pos, alcohol, align='center', alpha=0.5)\n",
    "bar_list[continents.index(\"EU\")].set_color('r')\n",
    "plt.xticks(y_pos, continents)\n",
    "plt.ylabel('맥주 섭취량')\n",
    "plt.title('국가별 맥주 섭취량')\n",
    " \n",
    "plt.show()"
   ]
  },
  {
   "cell_type": "code",
   "execution_count": 57,
   "metadata": {},
   "outputs": [],
   "source": [
    "# 대륙별 spirit_servings의 평균, 최소, 최대, 합계 구하기\n",
    "result = drinks.groupby('continent').spirit_servings.agg(['mean', 'min', 'max', 'sum'])"
   ]
  },
  {
   "cell_type": "code",
   "execution_count": 73,
   "metadata": {},
   "outputs": [
    {
     "data": {
      "text/plain": [
       "['AF', 'AS', 'EU', 'OC', 'OT', 'SA']"
      ]
     },
     "execution_count": 73,
     "metadata": {},
     "output_type": "execute_result"
    }
   ],
   "source": [
    "result.head()"
   ]
  },
  {
   "cell_type": "code",
   "execution_count": 86,
   "metadata": {},
   "outputs": [
    {
     "data": {
      "image/png": "[encoded data removed]",
      "text/plain": [
       "<matplotlib.figure.Figure at 0x11f14be48>"
      ]
     },
     "metadata": {},
     "output_type": "display_data"
    }
   ],
   "source": [
    "n_groups = len(result.index)\n",
    "means = result['mean'].tolist()\n",
    "mins = result['min'].tolist()\n",
    "maxs = result['max'].tolist()\n",
    "sums = result['sum'].tolist()\n",
    " \n",
    "# create plot\n",
    "index = np.arange(n_groups)\n",
    "bar_width = 0.1\n",
    " \n",
    "rects1 = plt.bar(index, means, bar_width,\n",
    "                 color='r',\n",
    "                 label='Mean')\n",
    " \n",
    "rects2 = plt.bar(index + bar_width, mins, bar_width,\n",
    "                 color='g',\n",
    "                 label='Min')\n",
    "\n",
    "rects3 = plt.bar(index + bar_width * 2, maxs, bar_width,\n",
    "                 color='b',\n",
    "                 label='Max')\n",
    " \n",
    "rects3 = plt.bar(index + bar_width * 3, sums, bar_width,\n",
    "                 color='y',\n",
    "                 label='Sum')\n",
    "\n",
    "plt.xticks(index, result.index.tolist())\n",
    "plt.legend()\n",
    "plt.rcParams['figure.figsize'] = (10,6)\n",
    "plt.show()"
   ]
  },
  {
   "cell_type": "markdown",
   "metadata": {},
   "source": [
    "### 3-3) 정렬된 차트 그리기"
   ]
  },
  {
   "cell_type": "code",
   "execution_count": 89,
   "metadata": {},
   "outputs": [
    {
     "data": {
      "text/plain": [
       "138    15.0\n",
       "Name: alcohol_rate_rank, dtype: float64"
      ]
     },
     "execution_count": 89,
     "metadata": {},
     "output_type": "execute_result"
    }
   ],
   "source": [
    "drinks['total_servings'] = drinks['beer_servings'] + drinks['wine_servings'] + drinks['spirit_servings']\n",
    "\n",
    "# 술 소비량 대비 알콜 비율에 대한 칼럼 만들어서 병합하기 -> 독하게 술을 마시는 나라\n",
    "drinks['alcohol_rate'] = drinks['total_litres_of_pure_alcohol'] / drinks['total_servings']\n",
    "drinks['alcohol_rate'] = drinks['alcohol_rate'].fillna(0)\n",
    "\n",
    "# 전체 순위 중 한국의 순위 구하기\n",
    "drinks['alcohol_rate_rank'] = drinks['alcohol_rate'].rank(ascending=False)\n",
    "drinks['alcohol_rate_rank'] = drinks['alcohol_rate_rank'].apply(np.floor)\n",
    "drinks.loc[drinks['country'] == 'South Korea'].alcohol_rate_rank"
   ]
  },
  {
   "cell_type": "code",
   "execution_count": 91,
   "metadata": {},
   "outputs": [
    {
     "data": {
      "text/html": [
       "<div>\n",
       "<style scoped>\n",
       "    .dataframe tbody tr th:only-of-type {\n",
       "        vertical-align: middle;\n",
       "    }\n",
       "\n",
       "    .dataframe tbody tr th {\n",
       "        vertical-align: top;\n",
       "    }\n",
       "\n",
       "    .dataframe thead th {\n",
       "        text-align: right;\n",
       "    }\n",
       "</style>\n",
       "<table border=\"1\" class=\"dataframe\">\n",
       "  <thead>\n",
       "    <tr style=\"text-align: right;\">\n",
       "      <th></th>\n",
       "      <th>country</th>\n",
       "      <th>beer_servings</th>\n",
       "      <th>spirit_servings</th>\n",
       "      <th>wine_servings</th>\n",
       "      <th>total_litres_of_pure_alcohol</th>\n",
       "      <th>continent</th>\n",
       "      <th>total_servings</th>\n",
       "      <th>alcohol_rate</th>\n",
       "      <th>alcohol_rate_rank</th>\n",
       "    </tr>\n",
       "  </thead>\n",
       "  <tbody>\n",
       "    <tr>\n",
       "      <th>0</th>\n",
       "      <td>Afghanistan</td>\n",
       "      <td>0</td>\n",
       "      <td>0</td>\n",
       "      <td>0</td>\n",
       "      <td>0.0</td>\n",
       "      <td>AS</td>\n",
       "      <td>0</td>\n",
       "      <td>0.000000</td>\n",
       "      <td>187.0</td>\n",
       "    </tr>\n",
       "    <tr>\n",
       "      <th>1</th>\n",
       "      <td>Albania</td>\n",
       "      <td>89</td>\n",
       "      <td>132</td>\n",
       "      <td>54</td>\n",
       "      <td>4.9</td>\n",
       "      <td>EU</td>\n",
       "      <td>275</td>\n",
       "      <td>0.017818</td>\n",
       "      <td>120.0</td>\n",
       "    </tr>\n",
       "    <tr>\n",
       "      <th>2</th>\n",
       "      <td>Algeria</td>\n",
       "      <td>25</td>\n",
       "      <td>0</td>\n",
       "      <td>14</td>\n",
       "      <td>0.7</td>\n",
       "      <td>AF</td>\n",
       "      <td>39</td>\n",
       "      <td>0.017949</td>\n",
       "      <td>77.0</td>\n",
       "    </tr>\n",
       "    <tr>\n",
       "      <th>3</th>\n",
       "      <td>Andorra</td>\n",
       "      <td>245</td>\n",
       "      <td>138</td>\n",
       "      <td>312</td>\n",
       "      <td>12.4</td>\n",
       "      <td>EU</td>\n",
       "      <td>695</td>\n",
       "      <td>0.017842</td>\n",
       "      <td>114.0</td>\n",
       "    </tr>\n",
       "    <tr>\n",
       "      <th>4</th>\n",
       "      <td>Angola</td>\n",
       "      <td>217</td>\n",
       "      <td>57</td>\n",
       "      <td>45</td>\n",
       "      <td>5.9</td>\n",
       "      <td>AF</td>\n",
       "      <td>319</td>\n",
       "      <td>0.018495</td>\n",
       "      <td>49.0</td>\n",
       "    </tr>\n",
       "  </tbody>\n",
       "</table>\n",
       "</div>"
      ],
      "text/plain": [
       "       country  beer_servings  spirit_servings  wine_servings  \\\n",
       "0  Afghanistan              0                0              0   \n",
       "1      Albania             89              132             54   \n",
       "2      Algeria             25                0             14   \n",
       "3      Andorra            245              138            312   \n",
       "4       Angola            217               57             45   \n",
       "\n",
       "   total_litres_of_pure_alcohol continent  total_servings  alcohol_rate  \\\n",
       "0                           0.0        AS               0      0.000000   \n",
       "1                           4.9        EU             275      0.017818   \n",
       "2                           0.7        AF              39      0.017949   \n",
       "3                          12.4        EU             695      0.017842   \n",
       "4                           5.9        AF             319      0.018495   \n",
       "\n",
       "   alcohol_rate_rank  \n",
       "0              187.0  \n",
       "1              120.0  \n",
       "2               77.0  \n",
       "3              114.0  \n",
       "4               49.0  "
      ]
     },
     "execution_count": 91,
     "metadata": {},
     "output_type": "execute_result"
    }
   ],
   "source": [
    "drinks.head(5)"
   ]
  },
  {
   "cell_type": "code",
   "execution_count": 104,
   "metadata": {},
   "outputs": [
    {
     "data": {
      "text/html": [
       "<div>\n",
       "<style scoped>\n",
       "    .dataframe tbody tr th:only-of-type {\n",
       "        vertical-align: middle;\n",
       "    }\n",
       "\n",
       "    .dataframe tbody tr th {\n",
       "        vertical-align: top;\n",
       "    }\n",
       "\n",
       "    .dataframe thead th {\n",
       "        text-align: right;\n",
       "    }\n",
       "</style>\n",
       "<table border=\"1\" class=\"dataframe\">\n",
       "  <thead>\n",
       "    <tr style=\"text-align: right;\">\n",
       "      <th></th>\n",
       "      <th>country</th>\n",
       "      <th>alcohol_rate</th>\n",
       "    </tr>\n",
       "  </thead>\n",
       "  <tbody>\n",
       "    <tr>\n",
       "      <th>0</th>\n",
       "      <td>Afghanistan</td>\n",
       "      <td>0.0</td>\n",
       "    </tr>\n",
       "    <tr>\n",
       "      <th>128</th>\n",
       "      <td>Pakistan</td>\n",
       "      <td>0.0</td>\n",
       "    </tr>\n",
       "    <tr>\n",
       "      <th>13</th>\n",
       "      <td>Bangladesh</td>\n",
       "      <td>0.0</td>\n",
       "    </tr>\n",
       "    <tr>\n",
       "      <th>90</th>\n",
       "      <td>Kuwait</td>\n",
       "      <td>0.0</td>\n",
       "    </tr>\n",
       "    <tr>\n",
       "      <th>111</th>\n",
       "      <td>Monaco</td>\n",
       "      <td>0.0</td>\n",
       "    </tr>\n",
       "  </tbody>\n",
       "</table>\n",
       "</div>"
      ],
      "text/plain": [
       "         country  alcohol_rate\n",
       "0    Afghanistan           0.0\n",
       "128     Pakistan           0.0\n",
       "13    Bangladesh           0.0\n",
       "90        Kuwait           0.0\n",
       "111       Monaco           0.0"
      ]
     },
     "execution_count": 104,
     "metadata": {},
     "output_type": "execute_result"
    }
   ],
   "source": [
    "country_with_rank = drinks[['country', 'alcohol_rate']]\n",
    "country_with_rank = country_with_rank.sort_values(by=['alcohol_rate'], ascending=1)\n",
    "country_with_rank.head(5)"
   ]
  },
  {
   "cell_type": "code",
   "execution_count": 109,
   "metadata": {},
   "outputs": [
    {
     "data": {
      "image/png": "[encoded data removed]",
      "text/plain": [
       "<matplotlib.figure.Figure at 0x125f34550>"
      ]
     },
     "metadata": {},
     "output_type": "display_data"
    }
   ],
   "source": [
    "country_list = country_with_rank.country.tolist()\n",
    "y_pos = np.arange(len(country_list))\n",
    "rank = country_with_rank.alcohol_rate.tolist()\n",
    " \n",
    "bar_list = plt.bar(y_pos, rank, align='center', alpha=0.5)\n",
    "bar_list[country_list.index(\"South Korea\")].set_color('r')\n",
    "plt.ylabel('술 소비량 대비 알콜 비율')\n",
    "plt.title('가장 독한 술을 마시는 국가')\n",
    "plt.axis([0, 195, 0, 0.3])\n",
    "\n",
    "plt.show()"
   ]
  },
  {
   "cell_type": "markdown",
   "metadata": {},
   "source": [
    "### 3-4) t-test 시각화하기"
   ]
  },
  {
   "cell_type": "code",
   "execution_count": 90,
   "metadata": {},
   "outputs": [
    {
     "name": "stdout",
     "output_type": "stream",
     "text": [
      "The t-statistic and p-value assuming equal variances is 3.778 and 0.000.\n",
      "The t-statistic and p-value not assuming equal variances is 4.100 and 0.000\n"
     ]
    }
   ],
   "source": [
    "# 아프리카와 유럽간의 술 소비량 대비 알콜 비율의 차이 검정하기\n",
    "africa = drinks.loc[drinks['continent']=='AF']\n",
    "europe = drinks.loc[drinks['continent']=='EU']\n",
    "\n",
    "from scipy import stats\n",
    "tTestResult = stats.ttest_ind(africa['alcohol_rate'], europe['alcohol_rate'])\n",
    "tTestResultDiffVar = stats.ttest_ind(africa['alcohol_rate'], europe['alcohol_rate'], equal_var=False)\n",
    "\n",
    "print(\"The t-statistic and p-value assuming equal variances is %.3f and %.3f.\" % tTestResult)\n",
    "print(\"The t-statistic and p-value not assuming equal variances is %.3f and %.3f\" % tTestResultDiffVar)"
   ]
  },
  {
   "cell_type": "code",
   "execution_count": 124,
   "metadata": {},
   "outputs": [
    {
     "data": {
      "image/png": "[encoded data removed]",
      "text/plain": [
       "<matplotlib.figure.Figure at 0x11553f550>"
      ]
     },
     "metadata": {},
     "output_type": "display_data"
    }
   ],
   "source": [
    "plt.hist(africa['alcohol_rate'], bins=np.arange(0, 0.3, 0.005))\n",
    "plt.axis([0, 0.3, 0, 50])\n",
    "plt.show()"
   ]
  },
  {
   "cell_type": "code",
   "execution_count": 125,
   "metadata": {},
   "outputs": [
    {
     "data": {
      "image/png": "[encoded data removed]",
      "text/plain": [
       "<matplotlib.figure.Figure at 0x1260a14a8>"
      ]
     },
     "metadata": {},
     "output_type": "display_data"
    }
   ],
   "source": [
    "plt.hist(europe['alcohol_rate'], bins=np.arange(0, 0.3, 0.005))\n",
    "plt.axis([0, 0.3, 0, 50])\n",
    "plt.show()"
   ]
  },
  {
   "cell_type": "code",
   "execution_count": null,
   "metadata": {},
   "outputs": [],
   "source": []
  }
 ],
 "metadata": {
  "kernelspec": {
   "display_name": "Python 3",
   "language": "python",
   "name": "python3"
  },
  "language_info": {
   "codemirror_mode": {
    "name": "ipython",
    "version": 3
   },
   "file_extension": ".py",
   "mimetype": "text/x-python",
   "name": "python",
   "nbconvert_exporter": "python",
   "pygments_lexer": "ipython3",
   "version": "3.6.2"
  }
 },
 "nbformat": 4,
 "nbformat_minor": 2
}
