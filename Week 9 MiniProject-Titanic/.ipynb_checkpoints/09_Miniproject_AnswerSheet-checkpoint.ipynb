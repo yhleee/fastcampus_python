{
 "cells": [
  {
   "cell_type": "markdown",
   "metadata": {},
   "source": [
    "[윤기태 / 패스트캠퍼스] 최종 수정일 : 2018. 04. 22"
   ]
  },
  {
   "cell_type": "markdown",
   "metadata": {},
   "source": [
    "## 데이터 분석을 위한 파이썬 프로그래밍 CAMP - 9회차"
   ]
  },
  {
   "cell_type": "markdown",
   "metadata": {},
   "source": [
    "### *개발 환경 및 사용 라이브러리*\n",
    "- 개발환경 : OSX 10.13.2, Anaconda-spyder IDE\n",
    "- 개발언어 : Python 3.6.1\n",
    "- 사용모듈 : pandas, numpy, matplotlib"
   ]
  },
  {
   "cell_type": "markdown",
   "metadata": {},
   "source": [
    "-----"
   ]
  },
  {
   "cell_type": "markdown",
   "metadata": {},
   "source": [
    "### 1. 필요한 라이브러리 및 데이터 가져오기"
   ]
  },
  {
   "cell_type": "markdown",
   "metadata": {},
   "source": [
    "- %matplotlib inline : 주피터 노트북에서 그래프 그릴 것을 선언해줌.\n",
    "- \\# -*- coding: utf-8 -*- : 인코딩 타입은 utf-8 이라는 것을 선언.\n",
    "- 데이터 frame 형태로 데이터를 관찰하고, 원하는 형태로 조작하기 위해 pandas와 numpy 라이브러리가 필요함.\n",
    "- 원하는 형태로 데이터를 조작하였으면, 이를 시각화 하기 위해 matplotlib 라이브러리도 필요.\n",
    "\n",
    "titanic_dataset.csv는 학습에 필요한 training dataset이고, answer.csv는 오로지 평가만을 위한 test 데이터셋."
   ]
  },
  {
   "cell_type": "code",
   "execution_count": 1,
   "metadata": {},
   "outputs": [],
   "source": [
    "%matplotlib inline"
   ]
  },
  {
   "cell_type": "code",
   "execution_count": 2,
   "metadata": {},
   "outputs": [
    {
     "data": {
      "text/html": [
       "<div>\n",
       "<style scoped>\n",
       "    .dataframe tbody tr th:only-of-type {\n",
       "        vertical-align: middle;\n",
       "    }\n",
       "\n",
       "    .dataframe tbody tr th {\n",
       "        vertical-align: top;\n",
       "    }\n",
       "\n",
       "    .dataframe thead th {\n",
       "        text-align: right;\n",
       "    }\n",
       "</style>\n",
       "<table border=\"1\" class=\"dataframe\">\n",
       "  <thead>\n",
       "    <tr style=\"text-align: right;\">\n",
       "      <th></th>\n",
       "      <th>pclass</th>\n",
       "      <th>survived</th>\n",
       "      <th>name</th>\n",
       "      <th>sex</th>\n",
       "      <th>age</th>\n",
       "      <th>sibsp</th>\n",
       "      <th>parch</th>\n",
       "      <th>ticket</th>\n",
       "      <th>fare</th>\n",
       "      <th>cabin</th>\n",
       "      <th>embarked</th>\n",
       "      <th>body</th>\n",
       "      <th>home.dest</th>\n",
       "    </tr>\n",
       "  </thead>\n",
       "  <tbody>\n",
       "    <tr>\n",
       "      <th>0</th>\n",
       "      <td>2</td>\n",
       "      <td>1</td>\n",
       "      <td>Mellinger, Miss. Madeleine Violet</td>\n",
       "      <td>female</td>\n",
       "      <td>13.0</td>\n",
       "      <td>0</td>\n",
       "      <td>1</td>\n",
       "      <td>250644</td>\n",
       "      <td>19.5000</td>\n",
       "      <td>NaN</td>\n",
       "      <td>S</td>\n",
       "      <td>NaN</td>\n",
       "      <td>England / Bennington, VT</td>\n",
       "    </tr>\n",
       "    <tr>\n",
       "      <th>1</th>\n",
       "      <td>2</td>\n",
       "      <td>1</td>\n",
       "      <td>Wells, Miss. Joan</td>\n",
       "      <td>female</td>\n",
       "      <td>4.0</td>\n",
       "      <td>1</td>\n",
       "      <td>1</td>\n",
       "      <td>29103</td>\n",
       "      <td>23.0000</td>\n",
       "      <td>NaN</td>\n",
       "      <td>S</td>\n",
       "      <td>NaN</td>\n",
       "      <td>Cornwall / Akron, OH</td>\n",
       "    </tr>\n",
       "    <tr>\n",
       "      <th>2</th>\n",
       "      <td>2</td>\n",
       "      <td>1</td>\n",
       "      <td>Duran y More, Miss. Florentina</td>\n",
       "      <td>female</td>\n",
       "      <td>30.0</td>\n",
       "      <td>1</td>\n",
       "      <td>0</td>\n",
       "      <td>SC/PARIS 2148</td>\n",
       "      <td>13.8583</td>\n",
       "      <td>NaN</td>\n",
       "      <td>C</td>\n",
       "      <td>NaN</td>\n",
       "      <td>Barcelona, Spain / Havana, Cuba</td>\n",
       "    </tr>\n",
       "    <tr>\n",
       "      <th>3</th>\n",
       "      <td>3</td>\n",
       "      <td>0</td>\n",
       "      <td>Scanlan, Mr. James</td>\n",
       "      <td>male</td>\n",
       "      <td>NaN</td>\n",
       "      <td>0</td>\n",
       "      <td>0</td>\n",
       "      <td>36209</td>\n",
       "      <td>7.7250</td>\n",
       "      <td>NaN</td>\n",
       "      <td>Q</td>\n",
       "      <td>NaN</td>\n",
       "      <td>NaN</td>\n",
       "    </tr>\n",
       "    <tr>\n",
       "      <th>4</th>\n",
       "      <td>3</td>\n",
       "      <td>1</td>\n",
       "      <td>Bradley, Miss. Bridget Delia</td>\n",
       "      <td>female</td>\n",
       "      <td>22.0</td>\n",
       "      <td>0</td>\n",
       "      <td>0</td>\n",
       "      <td>334914</td>\n",
       "      <td>7.7250</td>\n",
       "      <td>NaN</td>\n",
       "      <td>Q</td>\n",
       "      <td>NaN</td>\n",
       "      <td>Kingwilliamstown, Co Cork, Ireland Glens Falls...</td>\n",
       "    </tr>\n",
       "  </tbody>\n",
       "</table>\n",
       "</div>"
      ],
      "text/plain": [
       "   pclass  survived                               name     sex   age  sibsp  \\\n",
       "0       2         1  Mellinger, Miss. Madeleine Violet  female  13.0      0   \n",
       "1       2         1                  Wells, Miss. Joan  female   4.0      1   \n",
       "2       2         1     Duran y More, Miss. Florentina  female  30.0      1   \n",
       "3       3         0                 Scanlan, Mr. James    male   NaN      0   \n",
       "4       3         1       Bradley, Miss. Bridget Delia  female  22.0      0   \n",
       "\n",
       "   parch         ticket     fare cabin embarked  body  \\\n",
       "0      1         250644  19.5000   NaN        S   NaN   \n",
       "1      1          29103  23.0000   NaN        S   NaN   \n",
       "2      0  SC/PARIS 2148  13.8583   NaN        C   NaN   \n",
       "3      0          36209   7.7250   NaN        Q   NaN   \n",
       "4      0         334914   7.7250   NaN        Q   NaN   \n",
       "\n",
       "                                           home.dest  \n",
       "0                           England / Bennington, VT  \n",
       "1                               Cornwall / Akron, OH  \n",
       "2                    Barcelona, Spain / Havana, Cuba  \n",
       "3                                                NaN  \n",
       "4  Kingwilliamstown, Co Cork, Ireland Glens Falls...  "
      ]
     },
     "execution_count": 2,
     "metadata": {},
     "output_type": "execute_result"
    }
   ],
   "source": [
    "#!/usr/bin/env python3\n",
    "# -*- coding: utf-8 -*-\n",
    "import pandas as pd\n",
    "import numpy as np\n",
    "import matplotlib.pyplot as plt\n",
    "\n",
    "titanic = pd.read_csv(\"dataset/titanic_dataset.csv\")\n",
    "answer = pd.read_csv(\"dataset/titanic_answer.csv\")\n",
    "titanic.head()"
   ]
  },
  {
   "cell_type": "code",
   "execution_count": 3,
   "metadata": {},
   "outputs": [
    {
     "name": "stdout",
     "output_type": "stream",
     "text": [
      "(916, 13)\n",
      "Index(['pclass', 'survived', 'name', 'sex', 'age', 'sibsp', 'parch', 'ticket',\n",
      "       'fare', 'cabin', 'embarked', 'body', 'home.dest'],\n",
      "      dtype='object')\n"
     ]
    }
   ],
   "source": [
    "print(titanic.shape) # 데이터셋의 크기 살펴보기\n",
    "print(titanic.columns) # 데이터셋의 피처 살펴보기"
   ]
  },
  {
   "cell_type": "markdown",
   "metadata": {},
   "source": [
    "- 훈련셋과 평가셋 데이터에서, 어떤 피처들에 결측값이 존재하는지 관찰해야 함.\n",
    "- 훈련셋에서만 결측값을 확인한다면, 후에 모델링 할 때 feature가 맞지 않아 error 발생 확률이 높음."
   ]
  },
  {
   "cell_type": "code",
   "execution_count": 4,
   "metadata": {
    "scrolled": true
   },
   "outputs": [
    {
     "data": {
      "text/plain": [
       "pclass         0\n",
       "survived       0\n",
       "name           0\n",
       "sex            0\n",
       "age          175\n",
       "sibsp          0\n",
       "parch          0\n",
       "ticket         0\n",
       "fare           0\n",
       "cabin        702\n",
       "embarked       2\n",
       "body         831\n",
       "home.dest    389\n",
       "dtype: int64"
      ]
     },
     "execution_count": 4,
     "metadata": {},
     "output_type": "execute_result"
    }
   ],
   "source": [
    "titanic.isnull().sum()"
   ]
  },
  {
   "cell_type": "code",
   "execution_count": 5,
   "metadata": {},
   "outputs": [
    {
     "data": {
      "text/plain": [
       "pclass         0\n",
       "survived       0\n",
       "name           0\n",
       "sex            0\n",
       "age           88\n",
       "sibsp          0\n",
       "parch          0\n",
       "ticket         0\n",
       "fare           0\n",
       "cabin        312\n",
       "embarked       0\n",
       "body         357\n",
       "home.dest    175\n",
       "dtype: int64"
      ]
     },
     "execution_count": 5,
     "metadata": {},
     "output_type": "execute_result"
    }
   ],
   "source": [
    "answer.isnull().sum()"
   ]
  },
  {
   "cell_type": "markdown",
   "metadata": {},
   "source": [
    "### 2. 피처 엔지니어링 없이, 간단한 전처리로 1차 학습"
   ]
  },
  {
   "cell_type": "markdown",
   "metadata": {},
   "source": [
    "- 나이 : 결측값을 평균값으로 보정\n",
    "- 성별 : binary categorical 변수를 0,1로 치환\n",
    "- Embarked : 결측값은 최빈값으로 보정하고, 범주형 변수이므로 one-hot encoding 적용."
   ]
  },
  {
   "cell_type": "code",
   "execution_count": 6,
   "metadata": {},
   "outputs": [
    {
     "data": {
      "text/html": [
       "<div>\n",
       "<style scoped>\n",
       "    .dataframe tbody tr th:only-of-type {\n",
       "        vertical-align: middle;\n",
       "    }\n",
       "\n",
       "    .dataframe tbody tr th {\n",
       "        vertical-align: top;\n",
       "    }\n",
       "\n",
       "    .dataframe thead th {\n",
       "        text-align: right;\n",
       "    }\n",
       "</style>\n",
       "<table border=\"1\" class=\"dataframe\">\n",
       "  <thead>\n",
       "    <tr style=\"text-align: right;\">\n",
       "      <th></th>\n",
       "      <th>pclass</th>\n",
       "      <th>survived</th>\n",
       "      <th>name</th>\n",
       "      <th>sex</th>\n",
       "      <th>age</th>\n",
       "      <th>sibsp</th>\n",
       "      <th>parch</th>\n",
       "      <th>ticket</th>\n",
       "      <th>fare</th>\n",
       "      <th>cabin</th>\n",
       "      <th>embarked</th>\n",
       "      <th>body</th>\n",
       "      <th>home.dest</th>\n",
       "      <th>C</th>\n",
       "      <th>Q</th>\n",
       "      <th>S</th>\n",
       "    </tr>\n",
       "  </thead>\n",
       "  <tbody>\n",
       "    <tr>\n",
       "      <th>0</th>\n",
       "      <td>2</td>\n",
       "      <td>1</td>\n",
       "      <td>Mellinger, Miss. Madeleine Violet</td>\n",
       "      <td>1</td>\n",
       "      <td>13.000000</td>\n",
       "      <td>0</td>\n",
       "      <td>1</td>\n",
       "      <td>250644</td>\n",
       "      <td>19.5000</td>\n",
       "      <td>NaN</td>\n",
       "      <td>S</td>\n",
       "      <td>NaN</td>\n",
       "      <td>England / Bennington, VT</td>\n",
       "      <td>0</td>\n",
       "      <td>0</td>\n",
       "      <td>1</td>\n",
       "    </tr>\n",
       "    <tr>\n",
       "      <th>1</th>\n",
       "      <td>2</td>\n",
       "      <td>1</td>\n",
       "      <td>Wells, Miss. Joan</td>\n",
       "      <td>1</td>\n",
       "      <td>4.000000</td>\n",
       "      <td>1</td>\n",
       "      <td>1</td>\n",
       "      <td>29103</td>\n",
       "      <td>23.0000</td>\n",
       "      <td>NaN</td>\n",
       "      <td>S</td>\n",
       "      <td>NaN</td>\n",
       "      <td>Cornwall / Akron, OH</td>\n",
       "      <td>0</td>\n",
       "      <td>0</td>\n",
       "      <td>1</td>\n",
       "    </tr>\n",
       "    <tr>\n",
       "      <th>2</th>\n",
       "      <td>2</td>\n",
       "      <td>1</td>\n",
       "      <td>Duran y More, Miss. Florentina</td>\n",
       "      <td>1</td>\n",
       "      <td>30.000000</td>\n",
       "      <td>1</td>\n",
       "      <td>0</td>\n",
       "      <td>SC/PARIS 2148</td>\n",
       "      <td>13.8583</td>\n",
       "      <td>NaN</td>\n",
       "      <td>C</td>\n",
       "      <td>NaN</td>\n",
       "      <td>Barcelona, Spain / Havana, Cuba</td>\n",
       "      <td>1</td>\n",
       "      <td>0</td>\n",
       "      <td>0</td>\n",
       "    </tr>\n",
       "    <tr>\n",
       "      <th>3</th>\n",
       "      <td>3</td>\n",
       "      <td>0</td>\n",
       "      <td>Scanlan, Mr. James</td>\n",
       "      <td>0</td>\n",
       "      <td>30.231444</td>\n",
       "      <td>0</td>\n",
       "      <td>0</td>\n",
       "      <td>36209</td>\n",
       "      <td>7.7250</td>\n",
       "      <td>NaN</td>\n",
       "      <td>Q</td>\n",
       "      <td>NaN</td>\n",
       "      <td>NaN</td>\n",
       "      <td>0</td>\n",
       "      <td>1</td>\n",
       "      <td>0</td>\n",
       "    </tr>\n",
       "    <tr>\n",
       "      <th>4</th>\n",
       "      <td>3</td>\n",
       "      <td>1</td>\n",
       "      <td>Bradley, Miss. Bridget Delia</td>\n",
       "      <td>1</td>\n",
       "      <td>22.000000</td>\n",
       "      <td>0</td>\n",
       "      <td>0</td>\n",
       "      <td>334914</td>\n",
       "      <td>7.7250</td>\n",
       "      <td>NaN</td>\n",
       "      <td>Q</td>\n",
       "      <td>NaN</td>\n",
       "      <td>Kingwilliamstown, Co Cork, Ireland Glens Falls...</td>\n",
       "      <td>0</td>\n",
       "      <td>1</td>\n",
       "      <td>0</td>\n",
       "    </tr>\n",
       "  </tbody>\n",
       "</table>\n",
       "</div>"
      ],
      "text/plain": [
       "   pclass  survived                               name  sex        age  sibsp  \\\n",
       "0       2         1  Mellinger, Miss. Madeleine Violet    1  13.000000      0   \n",
       "1       2         1                  Wells, Miss. Joan    1   4.000000      1   \n",
       "2       2         1     Duran y More, Miss. Florentina    1  30.000000      1   \n",
       "3       3         0                 Scanlan, Mr. James    0  30.231444      0   \n",
       "4       3         1       Bradley, Miss. Bridget Delia    1  22.000000      0   \n",
       "\n",
       "   parch         ticket     fare cabin embarked  body  \\\n",
       "0      1         250644  19.5000   NaN        S   NaN   \n",
       "1      1          29103  23.0000   NaN        S   NaN   \n",
       "2      0  SC/PARIS 2148  13.8583   NaN        C   NaN   \n",
       "3      0          36209   7.7250   NaN        Q   NaN   \n",
       "4      0         334914   7.7250   NaN        Q   NaN   \n",
       "\n",
       "                                           home.dest  C  Q  S  \n",
       "0                           England / Bennington, VT  0  0  1  \n",
       "1                               Cornwall / Akron, OH  0  0  1  \n",
       "2                    Barcelona, Spain / Havana, Cuba  1  0  0  \n",
       "3                                                NaN  0  1  0  \n",
       "4  Kingwilliamstown, Co Cork, Ireland Glens Falls...  0  1  0  "
      ]
     },
     "execution_count": 6,
     "metadata": {},
     "output_type": "execute_result"
    }
   ],
   "source": [
    "# Age의 NaN값을 Age들의 평균으로 보정\n",
    "titanic['age'] = titanic['age'].fillna(titanic['age'].mean())\n",
    "\n",
    "# sex : male은 0, female은 1로 변환\n",
    "titanic.loc[titanic['sex']=='male', 'sex'] = 0\n",
    "titanic.loc[titanic['sex']=='female', 'sex'] = 1\n",
    "\n",
    "# embark : 2개의 결측값은 최빈값으로 대체하고, one hot encoding 적용\n",
    "embarked_mode = titanic['embarked'].value_counts().index[0]\n",
    "titanic['embarked'] = titanic['embarked'].fillna(embarked_mode)\n",
    "\n",
    "df_one_hot_encoded = pd.get_dummies(titanic.embarked)\n",
    "titanic = pd.concat([titanic, df_one_hot_encoded], axis=1)\n",
    "\n",
    "titanic.head()"
   ]
  },
  {
   "cell_type": "markdown",
   "metadata": {},
   "source": [
    "#### 어떤 변수가 생존에 유의미한 결과를 미치는지 시각적으로 탐색\n",
    "#### pclass, age, sibsp, parch, fare 등으로 탐색\n",
    "\n",
    "- age : 평균으로 보정한 age 변수는 생존 집단과 비생존 집단의 유의미한 차이 없음\n",
    "- 나머지는 기준에 따라 다르지만, 대체적으로 유의미한 차이가 있음."
   ]
  },
  {
   "cell_type": "code",
   "execution_count": 7,
   "metadata": {},
   "outputs": [],
   "source": [
    "# 반복 작업으로 평가해주는 변수 탐색작업을 자동화\n",
    "# 연속형 변수를 파라미터로 입력\n",
    "import seaborn as sns\n",
    "from scipy import stats\n",
    "\n",
    "def valid_features(col_name):\n",
    "    g = sns.FacetGrid(titanic, col='survived')\n",
    "    g.map(plt.hist, col_name, bins=20)\n",
    "\n",
    "    titanic_survived = titanic[titanic['survived']==1]\n",
    "    titanic_survived_static = np.array(titanic_survived[col_name])\n",
    "    print(\"data length is\", '%.2f' % len(titanic_survived_static))\n",
    "    print(\"data mean is\", '%.2f' % np.mean(titanic_survived_static))\n",
    "    print(\"data variance is\", '%.2f' % np.var(titanic_survived_static))\n",
    "    print(\"data std is\", '%.2f' % np.std(titanic_survived_static))\n",
    "    print(\"data max is\", '%.2f' % np.max(titanic_survived_static))\n",
    "    print(\"data min is\", '%.2f' % np.min(titanic_survived_static))\n",
    "    print(\"data median is\", '%.2f' % np.median(titanic_survived_static))\n",
    "    print(\"-----------------------\")\n",
    "\n",
    "    titanic_n_survived = titanic[titanic['survived']==0]\n",
    "    titanic_n_survived_static = np.array(titanic_n_survived[col_name])\n",
    "    print(\"data length is\", '%.2f' % len(titanic_n_survived_static))\n",
    "    print(\"data mean is\", '%.2f' % np.mean(titanic_n_survived_static))\n",
    "    print(\"data variance is\", '%.2f' % np.var(titanic_n_survived_static))\n",
    "    print(\"data std is\", '%.2f' % np.std(titanic_n_survived_static))\n",
    "    print(\"data max is\", '%.2f' % np.max(titanic_n_survived_static))\n",
    "    print(\"data min is\", '%.2f' % np.min(titanic_n_survived_static))\n",
    "    print(\"data median is\", '%.2f' % np.median(titanic_n_survived_static))\n",
    "    print(\"-----------------------\")\n",
    "\n",
    "    tTestResult = stats.ttest_ind(titanic_survived[col_name], titanic_n_survived[col_name])\n",
    "    tTestResultDiffVar = stats.ttest_ind(titanic_survived[col_name], titanic_n_survived[col_name], equal_var=False)\n",
    "\n",
    "    print(\"The t-statistic and p-value assuming equal variances is %.3f and %.3f.\" % tTestResult)\n",
    "    print(\"The t-statistic and p-value not assuming equal variances is %.3f and %.3f\" % tTestResultDiffVar)"
   ]
  },
  {
   "cell_type": "code",
   "execution_count": 8,
   "metadata": {},
   "outputs": [
    {
     "name": "stdout",
     "output_type": "stream",
     "text": [
      "data length is 353.00\n",
      "data mean is 29.94\n",
      "data variance is 175.25\n",
      "data std is 13.24\n",
      "data max is 64.00\n",
      "data min is 0.17\n",
      "data median is 30.23\n",
      "-----------------------\n",
      "data length is 563.00\n",
      "data mean is 30.41\n",
      "data variance is 145.24\n",
      "data std is 12.05\n",
      "data max is 74.00\n",
      "data min is 0.75\n",
      "data median is 30.23\n",
      "-----------------------\n",
      "The t-statistic and p-value assuming equal variances is -0.553 and 0.581.\n",
      "The t-statistic and p-value not assuming equal variances is -0.541 and 0.589\n"
     ]
    },
    {
     "data": {
      "image/png": "[encoded data removed]",
      "text/plain": [
       "<matplotlib.figure.Figure at 0x10c0fb438>"
      ]
     },
     "metadata": {},
     "output_type": "display_data"
    }
   ],
   "source": [
    "valid_features('age')"
   ]
  },
  {
   "cell_type": "code",
   "execution_count": 9,
   "metadata": {},
   "outputs": [
    {
     "name": "stdout",
     "output_type": "stream",
     "text": [
      "data length is 353.00\n",
      "data mean is 1.96\n",
      "data variance is 0.77\n",
      "data std is 0.88\n",
      "data max is 3.00\n",
      "data min is 1.00\n",
      "data median is 2.00\n",
      "-----------------------\n",
      "data length is 563.00\n",
      "data mean is 2.50\n",
      "data variance is 0.56\n",
      "data std is 0.75\n",
      "data max is 3.00\n",
      "data min is 1.00\n",
      "data median is 3.00\n",
      "-----------------------\n",
      "The t-statistic and p-value assuming equal variances is -9.848 and 0.000.\n",
      "The t-statistic and p-value not assuming equal variances is -9.507 and 0.000\n"
     ]
    },
    {
     "data": {
      "image/png": "[encoded data removed]",
      "text/plain": [
       "<matplotlib.figure.Figure at 0x10deb6da0>"
      ]
     },
     "metadata": {},
     "output_type": "display_data"
    }
   ],
   "source": [
    "valid_features('pclass')"
   ]
  },
  {
   "cell_type": "code",
   "execution_count": 10,
   "metadata": {},
   "outputs": [
    {
     "name": "stdout",
     "output_type": "stream",
     "text": [
      "data length is 353.00\n",
      "data mean is 0.43\n",
      "data variance is 0.42\n",
      "data std is 0.64\n",
      "data max is 4.00\n",
      "data min is 0.00\n",
      "data median is 0.00\n",
      "-----------------------\n",
      "data length is 563.00\n",
      "data mean is 0.60\n",
      "data variance is 1.79\n",
      "data std is 1.34\n",
      "data max is 8.00\n",
      "data min is 0.00\n",
      "data median is 0.00\n",
      "-----------------------\n",
      "The t-statistic and p-value assuming equal variances is -2.118 and 0.034.\n",
      "The t-statistic and p-value not assuming equal variances is -2.446 and 0.015\n"
     ]
    },
    {
     "data": {
      "image/png": "[encoded data removed]",
      "text/plain": [
       "<matplotlib.figure.Figure at 0x10e084198>"
      ]
     },
     "metadata": {},
     "output_type": "display_data"
    }
   ],
   "source": [
    "valid_features('sibsp')"
   ]
  },
  {
   "cell_type": "code",
   "execution_count": 11,
   "metadata": {},
   "outputs": [
    {
     "name": "stdout",
     "output_type": "stream",
     "text": [
      "data length is 353.00\n",
      "data mean is 0.44\n",
      "data variance is 0.55\n",
      "data std is 0.74\n",
      "data max is 4.00\n",
      "data min is 0.00\n",
      "data median is 0.00\n",
      "-----------------------\n",
      "data length is 563.00\n",
      "data mean is 0.33\n",
      "data variance is 0.79\n",
      "data std is 0.89\n",
      "data max is 9.00\n",
      "data min is 0.00\n",
      "data median is 0.00\n",
      "-----------------------\n",
      "The t-statistic and p-value assuming equal variances is 1.865 and 0.063.\n",
      "The t-statistic and p-value not assuming equal variances is 1.942 and 0.052\n"
     ]
    },
    {
     "data": {
      "image/png": "[encoded data removed]",
      "text/plain": [
       "<matplotlib.figure.Figure at 0x10e330f28>"
      ]
     },
     "metadata": {},
     "output_type": "display_data"
    }
   ],
   "source": [
    "valid_features('parch')"
   ]
  },
  {
   "cell_type": "code",
   "execution_count": 12,
   "metadata": {},
   "outputs": [
    {
     "name": "stdout",
     "output_type": "stream",
     "text": [
      "data length is 353.00\n",
      "data mean is 46.98\n",
      "data variance is 3682.38\n",
      "data std is 60.68\n",
      "data max is 512.33\n",
      "data min is 0.00\n",
      "data median is 26.00\n",
      "-----------------------\n",
      "data length is 563.00\n",
      "data mean is 23.47\n",
      "data variance is 1132.13\n",
      "data std is 33.65\n",
      "data max is 263.00\n",
      "data min is 0.00\n",
      "data median is 12.18\n",
      "-----------------------\n",
      "The t-statistic and p-value assuming equal variances is 7.523 and 0.000.\n",
      "The t-statistic and p-value not assuming equal variances is 6.657 and 0.000\n"
     ]
    },
    {
     "data": {
      "image/png": "[encoded data removed]",
      "text/plain": [
       "<matplotlib.figure.Figure at 0x10e4dac50>"
      ]
     },
     "metadata": {},
     "output_type": "display_data"
    }
   ],
   "source": [
    "valid_features('fare')"
   ]
  },
  {
   "cell_type": "code",
   "execution_count": 13,
   "metadata": {},
   "outputs": [
    {
     "name": "stderr",
     "output_type": "stream",
     "text": [
      "/anaconda/envs/fastcampus/lib/python3.6/site-packages/seaborn/axisgrid.py:703: UserWarning: Using the pointplot function without specifying `order` is likely to produce an incorrect plot.\n",
      "  warnings.warn(warning)\n",
      "/anaconda/envs/fastcampus/lib/python3.6/site-packages/seaborn/axisgrid.py:708: UserWarning: Using the pointplot function without specifying `hue_order` is likely to produce an incorrect plot.\n",
      "  warnings.warn(warning)\n"
     ]
    },
    {
     "data": {
      "image/png": "[encoded data removed]",
      "text/plain": [
       "<matplotlib.figure.Figure at 0x10e6f2978>"
      ]
     },
     "metadata": {},
     "output_type": "display_data"
    }
   ],
   "source": [
    "grid = sns.FacetGrid(titanic, row='embarked', size=2.2, aspect=1.6)\n",
    "grid.map(sns.pointplot, 'pclass', 'survived', 'sex', palette='deep')\n",
    "grid.add_legend()\n",
    "titanic = titanic.drop(['embarked'], axis=1) # one-hot encoding을 완료했기 때문에 원 피처는 제거"
   ]
  },
  {
   "cell_type": "markdown",
   "metadata": {},
   "source": [
    "- Training dataset을 Training dataset, validation dataset으로 분리\n",
    "- 추가적인 핸들링이 별도로 필요해보이는 피처나, 결과에 무의미한 영향을 미치는 것 처럼 보이는 변수들을 제거\n",
    "- 'Pclass','Sex', 'Age', 'SibSp', 'Parch', 'Fare', 'Embarked' 만 1차 학습에서 선택"
   ]
  },
  {
   "cell_type": "code",
   "execution_count": 14,
   "metadata": {},
   "outputs": [],
   "source": [
    "# name, cabin 변수는 전처리 및 핸들링이 필요해 보이므로 일단 제외.\n",
    "# ticket, body, home.dest는 무의미한 피처로 보이므로 제외.\n",
    "titanic = titanic.drop(['name', 'cabin', 'ticket', 'body', 'home.dest'], axis=1)\n",
    "\n",
    "# train, validation set 분리.\n",
    "from sklearn.model_selection import train_test_split\n",
    "train, valid = train_test_split(titanic, test_size=0.2, random_state=0)\n",
    "\n",
    "train_y = train['survived']\n",
    "train_x = train.drop(['survived'], axis=1)\n",
    "\n",
    "valid_y = valid['survived']\n",
    "valid_x = valid.drop(['survived'], axis=1)"
   ]
  },
  {
   "cell_type": "markdown",
   "metadata": {},
   "source": [
    "- 학습 직전, 최종적으로 정리된 피처의 데이터 프레임"
   ]
  },
  {
   "cell_type": "code",
   "execution_count": 15,
   "metadata": {},
   "outputs": [
    {
     "data": {
      "text/html": [
       "<div>\n",
       "<style scoped>\n",
       "    .dataframe tbody tr th:only-of-type {\n",
       "        vertical-align: middle;\n",
       "    }\n",
       "\n",
       "    .dataframe tbody tr th {\n",
       "        vertical-align: top;\n",
       "    }\n",
       "\n",
       "    .dataframe thead th {\n",
       "        text-align: right;\n",
       "    }\n",
       "</style>\n",
       "<table border=\"1\" class=\"dataframe\">\n",
       "  <thead>\n",
       "    <tr style=\"text-align: right;\">\n",
       "      <th></th>\n",
       "      <th>pclass</th>\n",
       "      <th>sex</th>\n",
       "      <th>age</th>\n",
       "      <th>sibsp</th>\n",
       "      <th>parch</th>\n",
       "      <th>fare</th>\n",
       "      <th>C</th>\n",
       "      <th>Q</th>\n",
       "      <th>S</th>\n",
       "    </tr>\n",
       "  </thead>\n",
       "  <tbody>\n",
       "    <tr>\n",
       "      <th>511</th>\n",
       "      <td>1</td>\n",
       "      <td>0</td>\n",
       "      <td>29.000000</td>\n",
       "      <td>1</td>\n",
       "      <td>0</td>\n",
       "      <td>66.6000</td>\n",
       "      <td>0</td>\n",
       "      <td>0</td>\n",
       "      <td>1</td>\n",
       "    </tr>\n",
       "    <tr>\n",
       "      <th>527</th>\n",
       "      <td>1</td>\n",
       "      <td>0</td>\n",
       "      <td>30.231444</td>\n",
       "      <td>0</td>\n",
       "      <td>0</td>\n",
       "      <td>227.5250</td>\n",
       "      <td>1</td>\n",
       "      <td>0</td>\n",
       "      <td>0</td>\n",
       "    </tr>\n",
       "    <tr>\n",
       "      <th>85</th>\n",
       "      <td>1</td>\n",
       "      <td>1</td>\n",
       "      <td>30.000000</td>\n",
       "      <td>0</td>\n",
       "      <td>0</td>\n",
       "      <td>93.5000</td>\n",
       "      <td>0</td>\n",
       "      <td>0</td>\n",
       "      <td>1</td>\n",
       "    </tr>\n",
       "    <tr>\n",
       "      <th>413</th>\n",
       "      <td>2</td>\n",
       "      <td>0</td>\n",
       "      <td>27.000000</td>\n",
       "      <td>1</td>\n",
       "      <td>0</td>\n",
       "      <td>26.0000</td>\n",
       "      <td>0</td>\n",
       "      <td>0</td>\n",
       "      <td>1</td>\n",
       "    </tr>\n",
       "    <tr>\n",
       "      <th>75</th>\n",
       "      <td>3</td>\n",
       "      <td>0</td>\n",
       "      <td>40.000000</td>\n",
       "      <td>0</td>\n",
       "      <td>0</td>\n",
       "      <td>7.8958</td>\n",
       "      <td>0</td>\n",
       "      <td>0</td>\n",
       "      <td>1</td>\n",
       "    </tr>\n",
       "  </tbody>\n",
       "</table>\n",
       "</div>"
      ],
      "text/plain": [
       "     pclass  sex        age  sibsp  parch      fare  C  Q  S\n",
       "511       1    0  29.000000      1      0   66.6000  0  0  1\n",
       "527       1    0  30.231444      0      0  227.5250  1  0  0\n",
       "85        1    1  30.000000      0      0   93.5000  0  0  1\n",
       "413       2    0  27.000000      1      0   26.0000  0  0  1\n",
       "75        3    0  40.000000      0      0    7.8958  0  0  1"
      ]
     },
     "execution_count": 15,
     "metadata": {},
     "output_type": "execute_result"
    }
   ],
   "source": [
    "train_x.head()"
   ]
  },
  {
   "cell_type": "markdown",
   "metadata": {},
   "source": [
    "### 3. 정리된 피처를 이용하여, 로지스틱 회귀로 원시 분류모델 학습"
   ]
  },
  {
   "cell_type": "markdown",
   "metadata": {},
   "source": [
    "- 로지스틱 회귀로 학습한 뒤, 제대로 분류되지 않은 case를 단순 count로 검출."
   ]
  },
  {
   "cell_type": "code",
   "execution_count": 16,
   "metadata": {},
   "outputs": [
    {
     "name": "stdout",
     "output_type": "stream",
     "text": [
      "Misclassification samples : 43\n"
     ]
    }
   ],
   "source": [
    "from sklearn.linear_model import LogisticRegression\n",
    "lr = LogisticRegression(C=1000.0, random_state=0)\n",
    "lr.fit(train_x, train_y)\n",
    "pred_y = lr.predict(valid_x)\n",
    "\n",
    "print(\"Misclassification samples : %d\" %(valid_y != pred_y).sum())"
   ]
  },
  {
   "cell_type": "markdown",
   "metadata": {},
   "source": [
    "### 4. 1차 학습 모델 평가 (test set이 아닌 valid set으로)"
   ]
  },
  {
   "cell_type": "code",
   "execution_count": 17,
   "metadata": {},
   "outputs": [
    {
     "name": "stdout",
     "output_type": "stream",
     "text": [
      "accuracy: 0.77\n",
      "Precision : 0.691\n",
      "Recall : 0.681\n",
      "F1 : 0.686\n"
     ]
    }
   ],
   "source": [
    "from sklearn.metrics import precision_score, recall_score, f1_score\n",
    "from sklearn.metrics import accuracy_score\n",
    "print(\"accuracy: %.2f\" %accuracy_score(valid_y, pred_y))\n",
    "print(\"Precision : %.3f\" % precision_score(valid_y, pred_y))\n",
    "print(\"Recall : %.3f\" % recall_score(valid_y, pred_y))\n",
    "print(\"F1 : %.3f\" % f1_score(valid_y, pred_y))"
   ]
  },
  {
   "cell_type": "code",
   "execution_count": 18,
   "metadata": {},
   "outputs": [
    {
     "data": {
      "image/png": "[encoded data removed]",
      "text/plain": [
       "<matplotlib.figure.Figure at 0x10e323be0>"
      ]
     },
     "metadata": {},
     "output_type": "display_data"
    }
   ],
   "source": [
    "import scikitplot as skplt\n",
    "skplt.metrics.plot_confusion_matrix(valid_y, pred_y, normalize=True)\n",
    "plt.show()"
   ]
  },
  {
   "cell_type": "markdown",
   "metadata": {},
   "source": [
    "-----"
   ]
  },
  {
   "cell_type": "markdown",
   "metadata": {},
   "source": [
    "-----"
   ]
  },
  {
   "cell_type": "markdown",
   "metadata": {},
   "source": [
    "# 모델 성능 개선 : Feature Engineering, Feature Selection 적용"
   ]
  },
  {
   "cell_type": "markdown",
   "metadata": {},
   "source": [
    "### 5. 학습에 활용되는 피처 재선정 - 데이터 핸들링 및 전처리"
   ]
  },
  {
   "cell_type": "markdown",
   "metadata": {},
   "source": [
    "- 피처를 핸들링하고, 텍스트 형태이거나 rough한 범주형 데이터에서 의미를 찾아내는 작업.\n",
    "- 불필요한 피처들을 선정하고, 활용 가능성이 있는 피처를 핸들링하여 활용 가능하게 만드는 단계"
   ]
  },
  {
   "cell_type": "markdown",
   "metadata": {},
   "source": [
    "-----"
   ]
  },
  {
   "cell_type": "markdown",
   "metadata": {},
   "source": [
    "- ticket, body, home.dest는 확실히 무의미한 피처로 보이므로 제외."
   ]
  },
  {
   "cell_type": "code",
   "execution_count": 19,
   "metadata": {},
   "outputs": [
    {
     "data": {
      "text/html": [
       "<div>\n",
       "<style scoped>\n",
       "    .dataframe tbody tr th:only-of-type {\n",
       "        vertical-align: middle;\n",
       "    }\n",
       "\n",
       "    .dataframe tbody tr th {\n",
       "        vertical-align: top;\n",
       "    }\n",
       "\n",
       "    .dataframe thead th {\n",
       "        text-align: right;\n",
       "    }\n",
       "</style>\n",
       "<table border=\"1\" class=\"dataframe\">\n",
       "  <thead>\n",
       "    <tr style=\"text-align: right;\">\n",
       "      <th></th>\n",
       "      <th>pclass</th>\n",
       "      <th>survived</th>\n",
       "      <th>name</th>\n",
       "      <th>sex</th>\n",
       "      <th>age</th>\n",
       "      <th>sibsp</th>\n",
       "      <th>parch</th>\n",
       "      <th>fare</th>\n",
       "      <th>cabin</th>\n",
       "      <th>embarked</th>\n",
       "    </tr>\n",
       "  </thead>\n",
       "  <tbody>\n",
       "    <tr>\n",
       "      <th>0</th>\n",
       "      <td>2</td>\n",
       "      <td>1</td>\n",
       "      <td>Mellinger, Miss. Madeleine Violet</td>\n",
       "      <td>female</td>\n",
       "      <td>13.0</td>\n",
       "      <td>0</td>\n",
       "      <td>1</td>\n",
       "      <td>19.5000</td>\n",
       "      <td>NaN</td>\n",
       "      <td>S</td>\n",
       "    </tr>\n",
       "    <tr>\n",
       "      <th>1</th>\n",
       "      <td>2</td>\n",
       "      <td>1</td>\n",
       "      <td>Wells, Miss. Joan</td>\n",
       "      <td>female</td>\n",
       "      <td>4.0</td>\n",
       "      <td>1</td>\n",
       "      <td>1</td>\n",
       "      <td>23.0000</td>\n",
       "      <td>NaN</td>\n",
       "      <td>S</td>\n",
       "    </tr>\n",
       "    <tr>\n",
       "      <th>2</th>\n",
       "      <td>2</td>\n",
       "      <td>1</td>\n",
       "      <td>Duran y More, Miss. Florentina</td>\n",
       "      <td>female</td>\n",
       "      <td>30.0</td>\n",
       "      <td>1</td>\n",
       "      <td>0</td>\n",
       "      <td>13.8583</td>\n",
       "      <td>NaN</td>\n",
       "      <td>C</td>\n",
       "    </tr>\n",
       "    <tr>\n",
       "      <th>3</th>\n",
       "      <td>3</td>\n",
       "      <td>0</td>\n",
       "      <td>Scanlan, Mr. James</td>\n",
       "      <td>male</td>\n",
       "      <td>NaN</td>\n",
       "      <td>0</td>\n",
       "      <td>0</td>\n",
       "      <td>7.7250</td>\n",
       "      <td>NaN</td>\n",
       "      <td>Q</td>\n",
       "    </tr>\n",
       "    <tr>\n",
       "      <th>4</th>\n",
       "      <td>3</td>\n",
       "      <td>1</td>\n",
       "      <td>Bradley, Miss. Bridget Delia</td>\n",
       "      <td>female</td>\n",
       "      <td>22.0</td>\n",
       "      <td>0</td>\n",
       "      <td>0</td>\n",
       "      <td>7.7250</td>\n",
       "      <td>NaN</td>\n",
       "      <td>Q</td>\n",
       "    </tr>\n",
       "  </tbody>\n",
       "</table>\n",
       "</div>"
      ],
      "text/plain": [
       "   pclass  survived                               name     sex   age  sibsp  \\\n",
       "0       2         1  Mellinger, Miss. Madeleine Violet  female  13.0      0   \n",
       "1       2         1                  Wells, Miss. Joan  female   4.0      1   \n",
       "2       2         1     Duran y More, Miss. Florentina  female  30.0      1   \n",
       "3       3         0                 Scanlan, Mr. James    male   NaN      0   \n",
       "4       3         1       Bradley, Miss. Bridget Delia  female  22.0      0   \n",
       "\n",
       "   parch     fare cabin embarked  \n",
       "0      1  19.5000   NaN        S  \n",
       "1      1  23.0000   NaN        S  \n",
       "2      0  13.8583   NaN        C  \n",
       "3      0   7.7250   NaN        Q  \n",
       "4      0   7.7250   NaN        Q  "
      ]
     },
     "execution_count": 19,
     "metadata": {},
     "output_type": "execute_result"
    }
   ],
   "source": [
    "titanic = pd.read_csv(\"dataset/titanic_dataset.csv\")\n",
    "titanic = titanic.drop(['ticket', 'body', 'home.dest'], axis=1)\n",
    "titanic.head(5)"
   ]
  },
  {
   "cell_type": "markdown",
   "metadata": {},
   "source": [
    "- sex 변수와 embarked 변수도 처리방법이 명확하게 정해져 있으므로 위에서와 마찬가지로 처리"
   ]
  },
  {
   "cell_type": "code",
   "execution_count": 20,
   "metadata": {},
   "outputs": [
    {
     "data": {
      "text/html": [
       "<div>\n",
       "<style scoped>\n",
       "    .dataframe tbody tr th:only-of-type {\n",
       "        vertical-align: middle;\n",
       "    }\n",
       "\n",
       "    .dataframe tbody tr th {\n",
       "        vertical-align: top;\n",
       "    }\n",
       "\n",
       "    .dataframe thead th {\n",
       "        text-align: right;\n",
       "    }\n",
       "</style>\n",
       "<table border=\"1\" class=\"dataframe\">\n",
       "  <thead>\n",
       "    <tr style=\"text-align: right;\">\n",
       "      <th></th>\n",
       "      <th>pclass</th>\n",
       "      <th>survived</th>\n",
       "      <th>name</th>\n",
       "      <th>sex</th>\n",
       "      <th>age</th>\n",
       "      <th>sibsp</th>\n",
       "      <th>parch</th>\n",
       "      <th>fare</th>\n",
       "      <th>cabin</th>\n",
       "      <th>C</th>\n",
       "      <th>Q</th>\n",
       "      <th>S</th>\n",
       "    </tr>\n",
       "  </thead>\n",
       "  <tbody>\n",
       "    <tr>\n",
       "      <th>0</th>\n",
       "      <td>2</td>\n",
       "      <td>1</td>\n",
       "      <td>Mellinger, Miss. Madeleine Violet</td>\n",
       "      <td>1</td>\n",
       "      <td>13.0</td>\n",
       "      <td>0</td>\n",
       "      <td>1</td>\n",
       "      <td>19.5000</td>\n",
       "      <td>NaN</td>\n",
       "      <td>0</td>\n",
       "      <td>0</td>\n",
       "      <td>1</td>\n",
       "    </tr>\n",
       "    <tr>\n",
       "      <th>1</th>\n",
       "      <td>2</td>\n",
       "      <td>1</td>\n",
       "      <td>Wells, Miss. Joan</td>\n",
       "      <td>1</td>\n",
       "      <td>4.0</td>\n",
       "      <td>1</td>\n",
       "      <td>1</td>\n",
       "      <td>23.0000</td>\n",
       "      <td>NaN</td>\n",
       "      <td>0</td>\n",
       "      <td>0</td>\n",
       "      <td>1</td>\n",
       "    </tr>\n",
       "    <tr>\n",
       "      <th>2</th>\n",
       "      <td>2</td>\n",
       "      <td>1</td>\n",
       "      <td>Duran y More, Miss. Florentina</td>\n",
       "      <td>1</td>\n",
       "      <td>30.0</td>\n",
       "      <td>1</td>\n",
       "      <td>0</td>\n",
       "      <td>13.8583</td>\n",
       "      <td>NaN</td>\n",
       "      <td>1</td>\n",
       "      <td>0</td>\n",
       "      <td>0</td>\n",
       "    </tr>\n",
       "    <tr>\n",
       "      <th>3</th>\n",
       "      <td>3</td>\n",
       "      <td>0</td>\n",
       "      <td>Scanlan, Mr. James</td>\n",
       "      <td>0</td>\n",
       "      <td>NaN</td>\n",
       "      <td>0</td>\n",
       "      <td>0</td>\n",
       "      <td>7.7250</td>\n",
       "      <td>NaN</td>\n",
       "      <td>0</td>\n",
       "      <td>1</td>\n",
       "      <td>0</td>\n",
       "    </tr>\n",
       "    <tr>\n",
       "      <th>4</th>\n",
       "      <td>3</td>\n",
       "      <td>1</td>\n",
       "      <td>Bradley, Miss. Bridget Delia</td>\n",
       "      <td>1</td>\n",
       "      <td>22.0</td>\n",
       "      <td>0</td>\n",
       "      <td>0</td>\n",
       "      <td>7.7250</td>\n",
       "      <td>NaN</td>\n",
       "      <td>0</td>\n",
       "      <td>1</td>\n",
       "      <td>0</td>\n",
       "    </tr>\n",
       "  </tbody>\n",
       "</table>\n",
       "</div>"
      ],
      "text/plain": [
       "   pclass  survived                               name  sex   age  sibsp  \\\n",
       "0       2         1  Mellinger, Miss. Madeleine Violet    1  13.0      0   \n",
       "1       2         1                  Wells, Miss. Joan    1   4.0      1   \n",
       "2       2         1     Duran y More, Miss. Florentina    1  30.0      1   \n",
       "3       3         0                 Scanlan, Mr. James    0   NaN      0   \n",
       "4       3         1       Bradley, Miss. Bridget Delia    1  22.0      0   \n",
       "\n",
       "   parch     fare cabin  C  Q  S  \n",
       "0      1  19.5000   NaN  0  0  1  \n",
       "1      1  23.0000   NaN  0  0  1  \n",
       "2      0  13.8583   NaN  1  0  0  \n",
       "3      0   7.7250   NaN  0  1  0  \n",
       "4      0   7.7250   NaN  0  1  0  "
      ]
     },
     "execution_count": 20,
     "metadata": {},
     "output_type": "execute_result"
    }
   ],
   "source": [
    "# sex : male은 0, female은 1로 변환\n",
    "titanic.loc[titanic['sex']=='male', 'sex'] = 0\n",
    "titanic.loc[titanic['sex']=='female', 'sex'] = 1\n",
    "\n",
    "# embark : 2개의 결측값은 최빈값으로 대체하고, one hot encoding 적용\n",
    "embarked_mode = titanic['embarked'].value_counts().index[0]\n",
    "titanic['embarked'] = titanic['embarked'].fillna(embarked_mode)\n",
    "\n",
    "df_one_hot_encoded = pd.get_dummies(titanic.embarked)\n",
    "titanic = pd.concat([titanic, df_one_hot_encoded], axis=1)\n",
    "titanic = titanic.drop(['embarked'], axis=1)\n",
    "\n",
    "titanic.head(5)"
   ]
  },
  {
   "cell_type": "markdown",
   "metadata": {},
   "source": [
    "- cabin 변수를 처리하기 위해 살펴보기 \n",
    "--> 알파벳에 따라 유의미한 결과가 나올 것이라는 가설"
   ]
  },
  {
   "cell_type": "code",
   "execution_count": 21,
   "metadata": {
    "scrolled": true
   },
   "outputs": [
    {
     "data": {
      "text/plain": [
       "C23 C25 C27    5\n",
       "G6             4\n",
       "C78            4\n",
       "E101           3\n",
       "F33            3\n",
       "B96 B98        3\n",
       "F2             3\n",
       "F4             3\n",
       "C22 C26        3\n",
       "A34            3\n",
       "E34            3\n",
       "D19            2\n",
       "C68            2\n",
       "D26            2\n",
       "C83            2\n",
       "B28            2\n",
       "C101           2\n",
       "B77            2\n",
       "E121           2\n",
       "C125           2\n",
       "B35            2\n",
       "C89            2\n",
       "D36            2\n",
       "B51 B53 B55    2\n",
       "C54            2\n",
       "C93            2\n",
       "B71            2\n",
       "C6             2\n",
       "E46            2\n",
       "B5             2\n",
       "              ..\n",
       "B4             1\n",
       "C118           1\n",
       "E8             1\n",
       "C91            1\n",
       "C105           1\n",
       "E63            1\n",
       "D40            1\n",
       "C28            1\n",
       "B18            1\n",
       "F G73          1\n",
       "C51            1\n",
       "D21            1\n",
       "D46            1\n",
       "B45            1\n",
       "E17            1\n",
       "D50            1\n",
       "D28            1\n",
       "A16            1\n",
       "B3             1\n",
       "C111           1\n",
       "C49            1\n",
       "A36            1\n",
       "C80            1\n",
       "D37            1\n",
       "B58 B60        1\n",
       "A18            1\n",
       "A5             1\n",
       "D              1\n",
       "B52 B54 B56    1\n",
       "D47            1\n",
       "Name: cabin, Length: 150, dtype: int64"
      ]
     },
     "execution_count": 21,
     "metadata": {},
     "output_type": "execute_result"
    }
   ],
   "source": [
    "titanic['cabin'].value_counts()"
   ]
  },
  {
   "cell_type": "code",
   "execution_count": 22,
   "metadata": {},
   "outputs": [],
   "source": [
    "titanic['cabin'] = titanic['cabin'].fillna('X') # 캐비닛이 없는 경우 X라는 알파벳으로 대체\n",
    "titanic['cabin'] = titanic['cabin'].apply(lambda x: x[0])"
   ]
  },
  {
   "cell_type": "code",
   "execution_count": 23,
   "metadata": {},
   "outputs": [
    {
     "data": {
      "text/plain": [
       "X    702\n",
       "C     71\n",
       "B     42\n",
       "E     32\n",
       "D     32\n",
       "A     17\n",
       "F     15\n",
       "G      4\n",
       "T      1\n",
       "Name: cabin, dtype: int64"
      ]
     },
     "execution_count": 23,
     "metadata": {},
     "output_type": "execute_result"
    }
   ],
   "source": [
    "titanic['cabin'].value_counts()"
   ]
  },
  {
   "cell_type": "markdown",
   "metadata": {},
   "source": [
    "- cabin에 따라 생존률이 어떻게 달라지는지 관찰하기"
   ]
  },
  {
   "cell_type": "code",
   "execution_count": 24,
   "metadata": {},
   "outputs": [],
   "source": [
    "cabin_group = titanic.groupby('cabin')['survived']"
   ]
  },
  {
   "cell_type": "code",
   "execution_count": 25,
   "metadata": {},
   "outputs": [
    {
     "data": {
      "text/plain": [
       "cabin  survived\n",
       "A      1             9\n",
       "       0             8\n",
       "B      1            32\n",
       "       0            10\n",
       "C      1            40\n",
       "       0            31\n",
       "D      1            23\n",
       "       0             9\n",
       "E      1            23\n",
       "       0             9\n",
       "F      1            10\n",
       "       0             5\n",
       "G      0             2\n",
       "       1             2\n",
       "T      0             1\n",
       "X      0           488\n",
       "       1           214\n",
       "Name: survived, dtype: int64"
      ]
     },
     "execution_count": 25,
     "metadata": {},
     "output_type": "execute_result"
    }
   ],
   "source": [
    "cabin_group.value_counts()"
   ]
  },
  {
   "cell_type": "markdown",
   "metadata": {},
   "source": [
    "- X, T 정도를 제외하면 대부분 캐비닛이 있는 쪽이 생존률이 높음. 이 중 특히 B, D, E, F 의 생존률이 높아보임. 의미 있는 피처로 선정.\n",
    "- 단, G, T는 모수가 너무 적으므로 X로 통일.\n",
    "- one-hot encoding을 고려하여 test 데이터에서도 같은 범주의 변수인지 확인 필요"
   ]
  },
  {
   "cell_type": "code",
   "execution_count": 26,
   "metadata": {},
   "outputs": [
    {
     "data": {
      "text/plain": [
       "X    312\n",
       "C     23\n",
       "B     23\n",
       "D     14\n",
       "E      9\n",
       "F      6\n",
       "A      5\n",
       "G      1\n",
       "Name: cabin, dtype: int64"
      ]
     },
     "execution_count": 26,
     "metadata": {},
     "output_type": "execute_result"
    }
   ],
   "source": [
    "# one-hot encoding을 고려하여 test 데이터에서도 같은 범주의 변수인지 확인 -> T 범주가 없으므로 test set에서 T를 X로 통일.\n",
    "answer = pd.read_csv(\"dataset/titanic_answer.csv\")\n",
    "answer['cabin'] = answer['cabin'].fillna('X')\n",
    "answer['cabin'] = answer['cabin'].apply(lambda x: x[0])\n",
    "answer['cabin'].value_counts()"
   ]
  },
  {
   "cell_type": "markdown",
   "metadata": {},
   "source": [
    "#### 지금까지의 피처 다시한번 정리"
   ]
  },
  {
   "cell_type": "code",
   "execution_count": 27,
   "metadata": {},
   "outputs": [],
   "source": [
    "titanic = pd.read_csv(\"dataset/titanic_dataset.csv\")\n",
    "titanic = titanic.drop(['ticket', 'body', 'home.dest'], axis=1)\n",
    "\n",
    "# sex : male은 0, female은 1로 변환\n",
    "titanic.loc[titanic['sex']=='male', 'sex'] = 0\n",
    "titanic.loc[titanic['sex']=='female', 'sex'] = 1\n",
    "\n",
    "# embark : 2개의 결측값은 최빈값으로 대체하고, one hot encoding 적용\n",
    "embarked_mode = titanic['embarked'].value_counts().index[0]\n",
    "titanic['embarked'] = titanic['embarked'].fillna(embarked_mode)\n",
    "\n",
    "df_one_hot_encoded = pd.get_dummies(titanic.embarked)\n",
    "titanic = pd.concat([titanic, df_one_hot_encoded], axis=1)\n",
    "titanic = titanic.drop(['embarked'], axis=1)\n",
    "\n",
    "titanic['cabin'] = titanic['cabin'].fillna('X') # 캐비닛이 없는 경우 X라는 알파벳으로 대체\n",
    "titanic['cabin'] = titanic['cabin'].apply(lambda x: x[0])\n",
    "titanic['cabin'] = titanic['cabin'].replace({\"G\":\"X\", \"T\":\"X\"}) # G,T도 X로 대체"
   ]
  },
  {
   "cell_type": "code",
   "execution_count": 28,
   "metadata": {},
   "outputs": [
    {
     "data": {
      "text/html": [
       "<div>\n",
       "<style scoped>\n",
       "    .dataframe tbody tr th:only-of-type {\n",
       "        vertical-align: middle;\n",
       "    }\n",
       "\n",
       "    .dataframe tbody tr th {\n",
       "        vertical-align: top;\n",
       "    }\n",
       "\n",
       "    .dataframe thead th {\n",
       "        text-align: right;\n",
       "    }\n",
       "</style>\n",
       "<table border=\"1\" class=\"dataframe\">\n",
       "  <thead>\n",
       "    <tr style=\"text-align: right;\">\n",
       "      <th></th>\n",
       "      <th>pclass</th>\n",
       "      <th>survived</th>\n",
       "      <th>name</th>\n",
       "      <th>sex</th>\n",
       "      <th>age</th>\n",
       "      <th>sibsp</th>\n",
       "      <th>parch</th>\n",
       "      <th>fare</th>\n",
       "      <th>cabin</th>\n",
       "      <th>C</th>\n",
       "      <th>Q</th>\n",
       "      <th>S</th>\n",
       "    </tr>\n",
       "  </thead>\n",
       "  <tbody>\n",
       "    <tr>\n",
       "      <th>0</th>\n",
       "      <td>2</td>\n",
       "      <td>1</td>\n",
       "      <td>Mellinger, Miss. Madeleine Violet</td>\n",
       "      <td>1</td>\n",
       "      <td>13.0</td>\n",
       "      <td>0</td>\n",
       "      <td>1</td>\n",
       "      <td>19.5000</td>\n",
       "      <td>X</td>\n",
       "      <td>0</td>\n",
       "      <td>0</td>\n",
       "      <td>1</td>\n",
       "    </tr>\n",
       "    <tr>\n",
       "      <th>1</th>\n",
       "      <td>2</td>\n",
       "      <td>1</td>\n",
       "      <td>Wells, Miss. Joan</td>\n",
       "      <td>1</td>\n",
       "      <td>4.0</td>\n",
       "      <td>1</td>\n",
       "      <td>1</td>\n",
       "      <td>23.0000</td>\n",
       "      <td>X</td>\n",
       "      <td>0</td>\n",
       "      <td>0</td>\n",
       "      <td>1</td>\n",
       "    </tr>\n",
       "    <tr>\n",
       "      <th>2</th>\n",
       "      <td>2</td>\n",
       "      <td>1</td>\n",
       "      <td>Duran y More, Miss. Florentina</td>\n",
       "      <td>1</td>\n",
       "      <td>30.0</td>\n",
       "      <td>1</td>\n",
       "      <td>0</td>\n",
       "      <td>13.8583</td>\n",
       "      <td>X</td>\n",
       "      <td>1</td>\n",
       "      <td>0</td>\n",
       "      <td>0</td>\n",
       "    </tr>\n",
       "    <tr>\n",
       "      <th>3</th>\n",
       "      <td>3</td>\n",
       "      <td>0</td>\n",
       "      <td>Scanlan, Mr. James</td>\n",
       "      <td>0</td>\n",
       "      <td>NaN</td>\n",
       "      <td>0</td>\n",
       "      <td>0</td>\n",
       "      <td>7.7250</td>\n",
       "      <td>X</td>\n",
       "      <td>0</td>\n",
       "      <td>1</td>\n",
       "      <td>0</td>\n",
       "    </tr>\n",
       "    <tr>\n",
       "      <th>4</th>\n",
       "      <td>3</td>\n",
       "      <td>1</td>\n",
       "      <td>Bradley, Miss. Bridget Delia</td>\n",
       "      <td>1</td>\n",
       "      <td>22.0</td>\n",
       "      <td>0</td>\n",
       "      <td>0</td>\n",
       "      <td>7.7250</td>\n",
       "      <td>X</td>\n",
       "      <td>0</td>\n",
       "      <td>1</td>\n",
       "      <td>0</td>\n",
       "    </tr>\n",
       "  </tbody>\n",
       "</table>\n",
       "</div>"
      ],
      "text/plain": [
       "   pclass  survived                               name  sex   age  sibsp  \\\n",
       "0       2         1  Mellinger, Miss. Madeleine Violet    1  13.0      0   \n",
       "1       2         1                  Wells, Miss. Joan    1   4.0      1   \n",
       "2       2         1     Duran y More, Miss. Florentina    1  30.0      1   \n",
       "3       3         0                 Scanlan, Mr. James    0   NaN      0   \n",
       "4       3         1       Bradley, Miss. Bridget Delia    1  22.0      0   \n",
       "\n",
       "   parch     fare cabin  C  Q  S  \n",
       "0      1  19.5000     X  0  0  1  \n",
       "1      1  23.0000     X  0  0  1  \n",
       "2      0  13.8583     X  1  0  0  \n",
       "3      0   7.7250     X  0  1  0  \n",
       "4      0   7.7250     X  0  1  0  "
      ]
     },
     "execution_count": 28,
     "metadata": {},
     "output_type": "execute_result"
    }
   ],
   "source": [
    "titanic.head(5)"
   ]
  },
  {
   "cell_type": "markdown",
   "metadata": {},
   "source": [
    "- 다음으로, name 피처에 대한 활용법 고민.\n",
    "- name 피처를 살펴본 결과 miss, mr 등 대략적인 성별이나 지위를 나타내는 호칭이 대부분 붙어있음을 확인.\n",
    "- 따라서 이를 추출해내는 전처리 활용"
   ]
  },
  {
   "cell_type": "code",
   "execution_count": 29,
   "metadata": {},
   "outputs": [],
   "source": [
    "name_grade = titanic['name'].apply(lambda x : x.split(\", \",1)[1].split(\".\")[0]) # 호칭만 추출해내는 방법\n",
    "name_grade2 = answer['name'].apply(lambda x : x.split(\", \",1)[1].split(\".\")[0])"
   ]
  },
  {
   "cell_type": "code",
   "execution_count": 30,
   "metadata": {},
   "outputs": [
    {
     "name": "stdout",
     "output_type": "stream",
     "text": [
      "['Miss', 'Mr', 'Master', 'Mrs', 'Dr', 'Mlle', 'Col', 'Rev', 'Ms', 'Mme', 'Sir', 'the Countess', 'Dona', 'Jonkheer', 'Lady', 'Major', 'Don', 'Capt']\n"
     ]
    }
   ],
   "source": [
    "name_grade = name_grade.unique().tolist()\n",
    "name_grade2 = name_grade2.unique().tolist()\n",
    "for grade in name_grade2:\n",
    "    if grade in name_grade:\n",
    "        pass\n",
    "    else:\n",
    "        name_grade.append(grade)\n",
    "print(name_grade)"
   ]
  },
  {
   "cell_type": "code",
   "execution_count": 31,
   "metadata": {},
   "outputs": [],
   "source": [
    "# 호칭에 따라 등급을 분류하는 함수. 같은 호칭을 부르는 말은 같은 grade로 통합\n",
    "def mr_grade(row):\n",
    "    # 명예직\n",
    "    if 'Rev.' in row:\n",
    "        return \"A\"\n",
    "    elif 'Col.' in row:\n",
    "        return \"A\"\n",
    "    elif 'Major.' in row:\n",
    "        return \"A\"\n",
    "    elif 'Dr.' in row:\n",
    "        return \"A\"\n",
    "    elif 'Capt.' in row:\n",
    "        return \"A\"\n",
    "    elif 'Sir.' in row:\n",
    "        return \"A\"\n",
    "    # 여성\n",
    "    elif 'Ms.' in row:\n",
    "        return \"B\"\n",
    "    elif 'Mme.' in row:\n",
    "        return \"B\"\n",
    "    elif 'Mrs.' in row:\n",
    "        return \"B\"\n",
    "    elif 'Dona.' in row:\n",
    "        return \"D\"\n",
    "    # 귀족, 작위\n",
    "    elif 'Jonkheer.' in row:\n",
    "        return \"C\"\n",
    "    elif 'Countess.' in row:\n",
    "        return \"C\"\n",
    "    # 남성\n",
    "    elif 'Mr.' in row:\n",
    "        return \"D\"\n",
    "    elif 'Don.' in row:\n",
    "        return \"D\"\n",
    "    # 젊은남성\n",
    "    elif 'Master.' in row:\n",
    "        return \"E\"\n",
    "    # 젊은여성\n",
    "    elif 'Miss.' in row:\n",
    "        return \"F\"\n",
    "    elif 'Mlle.' in row:\n",
    "        return \"F\"\n",
    "    elif 'Lady.' in row:\n",
    "        return \"F\"\n",
    "    else:\n",
    "        return \"G\"\n",
    "    \n",
    "titanic['name_grade'] = titanic.apply(lambda row: mr_grade(row['name']), axis=1)"
   ]
  },
  {
   "cell_type": "code",
   "execution_count": 32,
   "metadata": {},
   "outputs": [
    {
     "data": {
      "text/plain": [
       "D    524\n",
       "F    188\n",
       "B    144\n",
       "E     40\n",
       "A     18\n",
       "C      2\n",
       "Name: name_grade, dtype: int64"
      ]
     },
     "execution_count": 32,
     "metadata": {},
     "output_type": "execute_result"
    }
   ],
   "source": [
    "titanic['name_grade'].value_counts()"
   ]
  },
  {
   "cell_type": "code",
   "execution_count": 33,
   "metadata": {},
   "outputs": [
    {
     "data": {
      "text/html": [
       "<div>\n",
       "<style scoped>\n",
       "    .dataframe tbody tr th:only-of-type {\n",
       "        vertical-align: middle;\n",
       "    }\n",
       "\n",
       "    .dataframe tbody tr th {\n",
       "        vertical-align: top;\n",
       "    }\n",
       "\n",
       "    .dataframe thead th {\n",
       "        text-align: right;\n",
       "    }\n",
       "</style>\n",
       "<table border=\"1\" class=\"dataframe\">\n",
       "  <thead>\n",
       "    <tr style=\"text-align: right;\">\n",
       "      <th></th>\n",
       "      <th>pclass</th>\n",
       "      <th>survived</th>\n",
       "      <th>sex</th>\n",
       "      <th>age</th>\n",
       "      <th>sibsp</th>\n",
       "      <th>parch</th>\n",
       "      <th>fare</th>\n",
       "      <th>cabin</th>\n",
       "      <th>C</th>\n",
       "      <th>Q</th>\n",
       "      <th>S</th>\n",
       "      <th>name_grade</th>\n",
       "    </tr>\n",
       "  </thead>\n",
       "  <tbody>\n",
       "    <tr>\n",
       "      <th>0</th>\n",
       "      <td>2</td>\n",
       "      <td>1</td>\n",
       "      <td>1</td>\n",
       "      <td>13.0</td>\n",
       "      <td>0</td>\n",
       "      <td>1</td>\n",
       "      <td>19.5000</td>\n",
       "      <td>X</td>\n",
       "      <td>0</td>\n",
       "      <td>0</td>\n",
       "      <td>1</td>\n",
       "      <td>F</td>\n",
       "    </tr>\n",
       "    <tr>\n",
       "      <th>1</th>\n",
       "      <td>2</td>\n",
       "      <td>1</td>\n",
       "      <td>1</td>\n",
       "      <td>4.0</td>\n",
       "      <td>1</td>\n",
       "      <td>1</td>\n",
       "      <td>23.0000</td>\n",
       "      <td>X</td>\n",
       "      <td>0</td>\n",
       "      <td>0</td>\n",
       "      <td>1</td>\n",
       "      <td>F</td>\n",
       "    </tr>\n",
       "    <tr>\n",
       "      <th>2</th>\n",
       "      <td>2</td>\n",
       "      <td>1</td>\n",
       "      <td>1</td>\n",
       "      <td>30.0</td>\n",
       "      <td>1</td>\n",
       "      <td>0</td>\n",
       "      <td>13.8583</td>\n",
       "      <td>X</td>\n",
       "      <td>1</td>\n",
       "      <td>0</td>\n",
       "      <td>0</td>\n",
       "      <td>F</td>\n",
       "    </tr>\n",
       "    <tr>\n",
       "      <th>3</th>\n",
       "      <td>3</td>\n",
       "      <td>0</td>\n",
       "      <td>0</td>\n",
       "      <td>NaN</td>\n",
       "      <td>0</td>\n",
       "      <td>0</td>\n",
       "      <td>7.7250</td>\n",
       "      <td>X</td>\n",
       "      <td>0</td>\n",
       "      <td>1</td>\n",
       "      <td>0</td>\n",
       "      <td>D</td>\n",
       "    </tr>\n",
       "    <tr>\n",
       "      <th>4</th>\n",
       "      <td>3</td>\n",
       "      <td>1</td>\n",
       "      <td>1</td>\n",
       "      <td>22.0</td>\n",
       "      <td>0</td>\n",
       "      <td>0</td>\n",
       "      <td>7.7250</td>\n",
       "      <td>X</td>\n",
       "      <td>0</td>\n",
       "      <td>1</td>\n",
       "      <td>0</td>\n",
       "      <td>F</td>\n",
       "    </tr>\n",
       "  </tbody>\n",
       "</table>\n",
       "</div>"
      ],
      "text/plain": [
       "   pclass  survived  sex   age  sibsp  parch     fare cabin  C  Q  S  \\\n",
       "0       2         1    1  13.0      0      1  19.5000     X  0  0  1   \n",
       "1       2         1    1   4.0      1      1  23.0000     X  0  0  1   \n",
       "2       2         1    1  30.0      1      0  13.8583     X  1  0  0   \n",
       "3       3         0    0   NaN      0      0   7.7250     X  0  1  0   \n",
       "4       3         1    1  22.0      0      0   7.7250     X  0  1  0   \n",
       "\n",
       "  name_grade  \n",
       "0          F  \n",
       "1          F  \n",
       "2          F  \n",
       "3          D  \n",
       "4          F  "
      ]
     },
     "execution_count": 33,
     "metadata": {},
     "output_type": "execute_result"
    }
   ],
   "source": [
    "titanic = titanic.drop(['name'], axis=1)\n",
    "titanic.head(5)"
   ]
  },
  {
   "cell_type": "markdown",
   "metadata": {},
   "source": [
    "### 6. 결측값 처리 & 숨겨진 의도 발굴 & 새로운 피처 생성 완료한 데이터셋으로 학습"
   ]
  },
  {
   "cell_type": "markdown",
   "metadata": {},
   "source": [
    "- 현재까지의 피처 정리\n",
    "- 연속형 변수 age ~ fare는 cabin, name의 핸들링 결과를 확인한 뒤 후처리"
   ]
  },
  {
   "cell_type": "code",
   "execution_count": 34,
   "metadata": {},
   "outputs": [
    {
     "data": {
      "text/html": [
       "<div>\n",
       "<style scoped>\n",
       "    .dataframe tbody tr th:only-of-type {\n",
       "        vertical-align: middle;\n",
       "    }\n",
       "\n",
       "    .dataframe tbody tr th {\n",
       "        vertical-align: top;\n",
       "    }\n",
       "\n",
       "    .dataframe thead th {\n",
       "        text-align: right;\n",
       "    }\n",
       "</style>\n",
       "<table border=\"1\" class=\"dataframe\">\n",
       "  <thead>\n",
       "    <tr style=\"text-align: right;\">\n",
       "      <th></th>\n",
       "      <th>survived</th>\n",
       "      <th>sex</th>\n",
       "      <th>age</th>\n",
       "      <th>sibsp</th>\n",
       "      <th>parch</th>\n",
       "      <th>fare</th>\n",
       "      <th>C</th>\n",
       "      <th>Q</th>\n",
       "      <th>S</th>\n",
       "      <th>A</th>\n",
       "      <th>...</th>\n",
       "      <th>X</th>\n",
       "      <th>A</th>\n",
       "      <th>B</th>\n",
       "      <th>C</th>\n",
       "      <th>D</th>\n",
       "      <th>E</th>\n",
       "      <th>F</th>\n",
       "      <th>1</th>\n",
       "      <th>2</th>\n",
       "      <th>3</th>\n",
       "    </tr>\n",
       "  </thead>\n",
       "  <tbody>\n",
       "    <tr>\n",
       "      <th>0</th>\n",
       "      <td>1</td>\n",
       "      <td>1</td>\n",
       "      <td>13.000000</td>\n",
       "      <td>0</td>\n",
       "      <td>1</td>\n",
       "      <td>19.5000</td>\n",
       "      <td>0</td>\n",
       "      <td>0</td>\n",
       "      <td>1</td>\n",
       "      <td>0</td>\n",
       "      <td>...</td>\n",
       "      <td>1</td>\n",
       "      <td>0</td>\n",
       "      <td>0</td>\n",
       "      <td>0</td>\n",
       "      <td>0</td>\n",
       "      <td>0</td>\n",
       "      <td>1</td>\n",
       "      <td>0</td>\n",
       "      <td>1</td>\n",
       "      <td>0</td>\n",
       "    </tr>\n",
       "    <tr>\n",
       "      <th>1</th>\n",
       "      <td>1</td>\n",
       "      <td>1</td>\n",
       "      <td>4.000000</td>\n",
       "      <td>1</td>\n",
       "      <td>1</td>\n",
       "      <td>23.0000</td>\n",
       "      <td>0</td>\n",
       "      <td>0</td>\n",
       "      <td>1</td>\n",
       "      <td>0</td>\n",
       "      <td>...</td>\n",
       "      <td>1</td>\n",
       "      <td>0</td>\n",
       "      <td>0</td>\n",
       "      <td>0</td>\n",
       "      <td>0</td>\n",
       "      <td>0</td>\n",
       "      <td>1</td>\n",
       "      <td>0</td>\n",
       "      <td>1</td>\n",
       "      <td>0</td>\n",
       "    </tr>\n",
       "    <tr>\n",
       "      <th>2</th>\n",
       "      <td>1</td>\n",
       "      <td>1</td>\n",
       "      <td>30.000000</td>\n",
       "      <td>1</td>\n",
       "      <td>0</td>\n",
       "      <td>13.8583</td>\n",
       "      <td>1</td>\n",
       "      <td>0</td>\n",
       "      <td>0</td>\n",
       "      <td>0</td>\n",
       "      <td>...</td>\n",
       "      <td>1</td>\n",
       "      <td>0</td>\n",
       "      <td>0</td>\n",
       "      <td>0</td>\n",
       "      <td>0</td>\n",
       "      <td>0</td>\n",
       "      <td>1</td>\n",
       "      <td>0</td>\n",
       "      <td>1</td>\n",
       "      <td>0</td>\n",
       "    </tr>\n",
       "    <tr>\n",
       "      <th>3</th>\n",
       "      <td>0</td>\n",
       "      <td>0</td>\n",
       "      <td>30.231444</td>\n",
       "      <td>0</td>\n",
       "      <td>0</td>\n",
       "      <td>7.7250</td>\n",
       "      <td>0</td>\n",
       "      <td>1</td>\n",
       "      <td>0</td>\n",
       "      <td>0</td>\n",
       "      <td>...</td>\n",
       "      <td>1</td>\n",
       "      <td>0</td>\n",
       "      <td>0</td>\n",
       "      <td>0</td>\n",
       "      <td>1</td>\n",
       "      <td>0</td>\n",
       "      <td>0</td>\n",
       "      <td>0</td>\n",
       "      <td>0</td>\n",
       "      <td>1</td>\n",
       "    </tr>\n",
       "    <tr>\n",
       "      <th>4</th>\n",
       "      <td>1</td>\n",
       "      <td>1</td>\n",
       "      <td>22.000000</td>\n",
       "      <td>0</td>\n",
       "      <td>0</td>\n",
       "      <td>7.7250</td>\n",
       "      <td>0</td>\n",
       "      <td>1</td>\n",
       "      <td>0</td>\n",
       "      <td>0</td>\n",
       "      <td>...</td>\n",
       "      <td>1</td>\n",
       "      <td>0</td>\n",
       "      <td>0</td>\n",
       "      <td>0</td>\n",
       "      <td>0</td>\n",
       "      <td>0</td>\n",
       "      <td>1</td>\n",
       "      <td>0</td>\n",
       "      <td>0</td>\n",
       "      <td>1</td>\n",
       "    </tr>\n",
       "  </tbody>\n",
       "</table>\n",
       "<p>5 rows × 25 columns</p>\n",
       "</div>"
      ],
      "text/plain": [
       "   survived  sex        age  sibsp  parch     fare  C  Q  S  A ...  X  A  B  \\\n",
       "0         1    1  13.000000      0      1  19.5000  0  0  1  0 ...  1  0  0   \n",
       "1         1    1   4.000000      1      1  23.0000  0  0  1  0 ...  1  0  0   \n",
       "2         1    1  30.000000      1      0  13.8583  1  0  0  0 ...  1  0  0   \n",
       "3         0    0  30.231444      0      0   7.7250  0  1  0  0 ...  1  0  0   \n",
       "4         1    1  22.000000      0      0   7.7250  0  1  0  0 ...  1  0  0   \n",
       "\n",
       "   C  D  E  F  1  2  3  \n",
       "0  0  0  0  1  0  1  0  \n",
       "1  0  0  0  1  0  1  0  \n",
       "2  0  0  0  1  0  1  0  \n",
       "3  0  1  0  0  0  0  1  \n",
       "4  0  0  0  1  0  0  1  \n",
       "\n",
       "[5 rows x 25 columns]"
      ]
     },
     "execution_count": 34,
     "metadata": {},
     "output_type": "execute_result"
    }
   ],
   "source": [
    "titanic = pd.read_csv(\"dataset/titanic_dataset.csv\")\n",
    "titanic = titanic.drop(['ticket', 'body', 'home.dest'], axis=1)\n",
    "\n",
    "# age : 나이는 평균값으로 보정\n",
    "titanic['age'] = titanic['age'].fillna(titanic['age'].mean())\n",
    "\n",
    "# sex : male은 0, female은 1로 변환\n",
    "titanic.loc[titanic['sex']=='male', 'sex'] = 0\n",
    "titanic.loc[titanic['sex']=='female', 'sex'] = 1\n",
    "\n",
    "# embark : 2개의 결측값은 최빈값으로 대체하고, one hot encoding 적용\n",
    "embarked_mode = titanic['embarked'].value_counts().index[0]\n",
    "titanic['embarked'] = titanic['embarked'].fillna(embarked_mode)\n",
    "\n",
    "df_one_hot_encoded = pd.get_dummies(titanic.embarked)\n",
    "titanic = pd.concat([titanic, df_one_hot_encoded], axis=1)\n",
    "titanic = titanic.drop(['embarked'], axis=1)\n",
    "\n",
    "# cabin : 없는 경우, G나 T는 X로 대체한 뒤 one hot encoding 적용\n",
    "titanic['cabin'] = titanic['cabin'].fillna('X')\n",
    "titanic['cabin'] = titanic['cabin'].apply(lambda x: x[0])\n",
    "titanic['cabin'] = titanic['cabin'].replace({\"G\":\"X\", \"T\":\"X\"})\n",
    "\n",
    "df_one_hot_encoded = pd.get_dummies(titanic.cabin)\n",
    "titanic = pd.concat([titanic, df_one_hot_encoded], axis=1)\n",
    "titanic = titanic.drop(['cabin'], axis=1)\n",
    "\n",
    "# 호칭에 따라 등급을 분류하는 함수. 같은 호칭을 부르는 말은 같은 grade로 통합\n",
    "def mr_grade(row):\n",
    "    # 명예직\n",
    "    if 'Rev.' in row:\n",
    "        return \"A\"\n",
    "    elif 'Col.' in row:\n",
    "        return \"A\"\n",
    "    elif 'Major.' in row:\n",
    "        return \"A\"\n",
    "    elif 'Dr.' in row:\n",
    "        return \"A\"\n",
    "    elif 'Capt.' in row:\n",
    "        return \"A\"\n",
    "    elif 'Sir.' in row:\n",
    "        return \"A\"\n",
    "    # 여성\n",
    "    elif 'Ms.' in row:\n",
    "        return \"B\"\n",
    "    elif 'Mme.' in row:\n",
    "        return \"B\"\n",
    "    elif 'Mrs.' in row:\n",
    "        return \"B\"\n",
    "    elif 'Dona.' in row:\n",
    "        return \"D\"\n",
    "    # 귀족, 작위\n",
    "    elif 'Jonkheer.' in row:\n",
    "        return \"C\"\n",
    "    elif 'Countess.' in row:\n",
    "        return \"C\"\n",
    "    # 남성\n",
    "    elif 'Mr.' in row:\n",
    "        return \"D\"\n",
    "    elif 'Don.' in row:\n",
    "        return \"D\"\n",
    "    # 젊은남성\n",
    "    elif 'Master.' in row:\n",
    "        return \"E\"\n",
    "    # 젊은여성\n",
    "    elif 'Miss.' in row:\n",
    "        return \"F\"\n",
    "    elif 'Mlle.' in row:\n",
    "        return \"F\"\n",
    "    elif 'Lady.' in row:\n",
    "        return \"F\"\n",
    "    else:\n",
    "        return \"G\"\n",
    "\n",
    "# name_grade 피처 생성하고 one-hot encoding 적용\n",
    "titanic['name'] = titanic.apply(lambda row: mr_grade(row['name']), axis=1)\n",
    "\n",
    "df_one_hot_encoded = pd.get_dummies(titanic.name)\n",
    "titanic = pd.concat([titanic, df_one_hot_encoded], axis=1)\n",
    "titanic = titanic.drop(['name'], axis=1)\n",
    "\n",
    "# pclass one-hot encoding 적용\n",
    "df_one_hot_encoded = pd.get_dummies(titanic.pclass)\n",
    "titanic = pd.concat([titanic, df_one_hot_encoded], axis=1)\n",
    "titanic = titanic.drop(['pclass'], axis=1)\n",
    "\n",
    "titanic.head()"
   ]
  },
  {
   "cell_type": "markdown",
   "metadata": {},
   "source": [
    "- 훈련, 검증셋 나눠서 2차 학습"
   ]
  },
  {
   "cell_type": "code",
   "execution_count": 35,
   "metadata": {},
   "outputs": [],
   "source": [
    "from sklearn.model_selection import train_test_split\n",
    "train, valid = train_test_split(titanic, test_size=0.2, random_state=0)\n",
    "\n",
    "train_y = train['survived']\n",
    "train_x = train.drop(['survived'], axis=1)\n",
    "\n",
    "valid_y = valid['survived']\n",
    "valid_x = valid.drop(['survived'], axis=1)"
   ]
  },
  {
   "cell_type": "code",
   "execution_count": 36,
   "metadata": {},
   "outputs": [
    {
     "name": "stdout",
     "output_type": "stream",
     "text": [
      "Misclassification samples : 33\n"
     ]
    }
   ],
   "source": [
    "from sklearn.linear_model import LogisticRegression\n",
    "lr = LogisticRegression(C=1000.0, random_state=0)\n",
    "lr.fit(train_x, train_y)\n",
    "pred_y = lr.predict(valid_x)\n",
    "\n",
    "print(\"Misclassification samples : %d\" %(valid_y != pred_y).sum())"
   ]
  },
  {
   "cell_type": "code",
   "execution_count": 37,
   "metadata": {},
   "outputs": [
    {
     "name": "stdout",
     "output_type": "stream",
     "text": [
      "accuracy: 0.82\n",
      "Precision : 0.765\n",
      "Recall : 0.754\n",
      "F1 : 0.759\n"
     ]
    }
   ],
   "source": [
    "from sklearn.metrics import precision_score, recall_score, f1_score\n",
    "from sklearn.metrics import accuracy_score\n",
    "print(\"accuracy: %.2f\" %accuracy_score(valid_y, pred_y))\n",
    "print(\"Precision : %.3f\" % precision_score(valid_y, pred_y))\n",
    "print(\"Recall : %.3f\" % recall_score(valid_y, pred_y))\n",
    "print(\"F1 : %.3f\" % f1_score(valid_y, pred_y))"
   ]
  },
  {
   "cell_type": "markdown",
   "metadata": {},
   "source": [
    "- 성능이 향상되었음을 확인하고, 연속형 변수에 대한 피처 엔지니어링 작업 실행"
   ]
  },
  {
   "cell_type": "markdown",
   "metadata": {},
   "source": [
    "-----"
   ]
  },
  {
   "cell_type": "markdown",
   "metadata": {},
   "source": [
    "### 7. 피처 엔지니어링"
   ]
  },
  {
   "cell_type": "markdown",
   "metadata": {},
   "source": [
    "- 수치와 관련된 엔지니어링을 하는 단계\n",
    "- 수치형 변수들에 대한 outlier에 대한 검증 필요\n",
    "- 수치형 변수들에 대한 scaling\n",
    "- 변수간의 공선성, 상관관계 검증하여 모델 최적화\n",
    "- 평균값으로 보정한 age값을 regression으로 정교화"
   ]
  },
  {
   "cell_type": "markdown",
   "metadata": {},
   "source": [
    "-----"
   ]
  },
  {
   "cell_type": "markdown",
   "metadata": {},
   "source": [
    "#### outlier 검증"
   ]
  },
  {
   "cell_type": "code",
   "execution_count": 38,
   "metadata": {},
   "outputs": [
    {
     "name": "stdout",
     "output_type": "stream",
     "text": [
      "0    707\n",
      "1    115\n",
      "2     79\n",
      "3      5\n",
      "4      4\n",
      "5      3\n",
      "6      2\n",
      "9      1\n",
      "Name: parch, dtype: int64\n"
     ]
    },
    {
     "data": {
      "text/plain": [
       "{'boxes': [<matplotlib.lines.Line2D at 0x10e20e748>],\n",
       " 'caps': [<matplotlib.lines.Line2D at 0x10e284780>,\n",
       "  <matplotlib.lines.Line2D at 0x10e284358>],\n",
       " 'fliers': [<matplotlib.lines.Line2D at 0x10e284b38>],\n",
       " 'means': [],\n",
       " 'medians': [<matplotlib.lines.Line2D at 0x10e284630>],\n",
       " 'whiskers': [<matplotlib.lines.Line2D at 0x10e20ec18>,\n",
       "  <matplotlib.lines.Line2D at 0x10e20e160>]}"
      ]
     },
     "execution_count": 38,
     "metadata": {},
     "output_type": "execute_result"
    },
    {
     "data": {
      "image/png": "[encoded data removed]",
      "text/plain": [
       "<matplotlib.figure.Figure at 0x10e3cb828>"
      ]
     },
     "metadata": {},
     "output_type": "display_data"
    }
   ],
   "source": [
    "print(titanic['parch'].value_counts()) # 직계가족 수의 경우, 통계적으로는 outlier가 검출되지만 최대값인 9도 잘못된 값으로 보기는 어려움\n",
    "plt.boxplot(titanic['parch'])"
   ]
  },
  {
   "cell_type": "code",
   "execution_count": 39,
   "metadata": {},
   "outputs": [
    {
     "name": "stdout",
     "output_type": "stream",
     "text": [
      "0    615\n",
      "1    227\n",
      "2     32\n",
      "4     16\n",
      "3     12\n",
      "8      9\n",
      "5      5\n",
      "Name: sibsp, dtype: int64\n"
     ]
    },
    {
     "data": {
      "text/plain": [
       "{'boxes': [<matplotlib.lines.Line2D at 0x10e1e0438>],\n",
       " 'caps': [<matplotlib.lines.Line2D at 0x10e3cd630>,\n",
       "  <matplotlib.lines.Line2D at 0x10e3cd9b0>],\n",
       " 'fliers': [<matplotlib.lines.Line2D at 0x10e027a20>],\n",
       " 'means': [],\n",
       " 'medians': [<matplotlib.lines.Line2D at 0x10bee4fd0>],\n",
       " 'whiskers': [<matplotlib.lines.Line2D at 0x10e1e09b0>,\n",
       "  <matplotlib.lines.Line2D at 0x10e3cd8d0>]}"
      ]
     },
     "execution_count": 39,
     "metadata": {},
     "output_type": "execute_result"
    },
    {
     "data": {
      "image/png": "[encoded data removed]",
      "text/plain": [
       "<matplotlib.figure.Figure at 0x10e0524e0>"
      ]
     },
     "metadata": {},
     "output_type": "display_data"
    }
   ],
   "source": [
    "print(titanic['sibsp'].value_counts()) # 형제자매, 배우자 역시 마찬가지\n",
    "plt.boxplot(titanic['sibsp'])"
   ]
  },
  {
   "cell_type": "code",
   "execution_count": 40,
   "metadata": {
    "scrolled": true
   },
   "outputs": [
    {
     "data": {
      "text/plain": [
       "[0.17,\n",
       " 0.75,\n",
       " 0.83,\n",
       " 1.0,\n",
       " 2.0,\n",
       " 3.0,\n",
       " 4.0,\n",
       " 5.0,\n",
       " 6.0,\n",
       " 7.0,\n",
       " 8.0,\n",
       " 9.0,\n",
       " 10.0,\n",
       " 11.0,\n",
       " 11.5,\n",
       " 12.0,\n",
       " 13.0,\n",
       " 14.0,\n",
       " 14.5,\n",
       " 15.0,\n",
       " 16.0,\n",
       " 17.0,\n",
       " 18.0,\n",
       " 18.5,\n",
       " 19.0,\n",
       " 20.0,\n",
       " 21.0,\n",
       " 22.0,\n",
       " 22.5,\n",
       " 23.0,\n",
       " 23.5,\n",
       " 24.0,\n",
       " 25.0,\n",
       " 26.0,\n",
       " 26.5,\n",
       " 27.0,\n",
       " 28.0,\n",
       " 28.5,\n",
       " 29.0,\n",
       " 30.0,\n",
       " 30.23144399460189,\n",
       " 30.5,\n",
       " 31.0,\n",
       " 32.0,\n",
       " 32.5,\n",
       " 33.0,\n",
       " 34.0,\n",
       " 35.0,\n",
       " 36.0,\n",
       " 36.5,\n",
       " 37.0,\n",
       " 38.0,\n",
       " 38.5,\n",
       " 39.0,\n",
       " 40.0,\n",
       " 40.5,\n",
       " 41.0,\n",
       " 42.0,\n",
       " 43.0,\n",
       " 44.0,\n",
       " 45.0,\n",
       " 45.5,\n",
       " 46.0,\n",
       " 47.0,\n",
       " 48.0,\n",
       " 49.0,\n",
       " 50.0,\n",
       " 51.0,\n",
       " 52.0,\n",
       " 53.0,\n",
       " 54.0,\n",
       " 55.0,\n",
       " 56.0,\n",
       " 57.0,\n",
       " 58.0,\n",
       " 59.0,\n",
       " 60.0,\n",
       " 61.0,\n",
       " 62.0,\n",
       " 63.0,\n",
       " 64.0,\n",
       " 65.0,\n",
       " 66.0,\n",
       " 67.0,\n",
       " 70.5,\n",
       " 71.0,\n",
       " 74.0]"
      ]
     },
     "execution_count": 40,
     "metadata": {},
     "output_type": "execute_result"
    }
   ],
   "source": [
    "sorted(titanic['age'].value_counts().index.tolist()) # 나이 역시 이상치 없음"
   ]
  },
  {
   "cell_type": "code",
   "execution_count": 41,
   "metadata": {},
   "outputs": [
    {
     "data": {
      "text/plain": [
       "{'boxes': [<matplotlib.lines.Line2D at 0x10e128550>],\n",
       " 'caps': [<matplotlib.lines.Line2D at 0x10e12f0b8>,\n",
       "  <matplotlib.lines.Line2D at 0x10e12f518>],\n",
       " 'fliers': [<matplotlib.lines.Line2D at 0x10e12fdd8>],\n",
       " 'means': [],\n",
       " 'medians': [<matplotlib.lines.Line2D at 0x10e12f978>],\n",
       " 'whiskers': [<matplotlib.lines.Line2D at 0x10e1286d8>,\n",
       "  <matplotlib.lines.Line2D at 0x10e128c18>]}"
      ]
     },
     "execution_count": 41,
     "metadata": {},
     "output_type": "execute_result"
    },
    {
     "data": {
      "image/png": "[encoded data removed]",
      "text/plain": [
       "<matplotlib.figure.Figure at 0x10e2717f0>"
      ]
     },
     "metadata": {},
     "output_type": "display_data"
    }
   ],
   "source": [
    "plt.boxplot(titanic['fare']) # 요금의 경우, 통계적 이상치 존재"
   ]
  },
  {
   "cell_type": "code",
   "execution_count": 42,
   "metadata": {},
   "outputs": [
    {
     "data": {
      "text/plain": [
       "(array([ 747.,  111.,   30.,    2.,   16.,    9.,    0.,    0.,    0.,    1.]),\n",
       " array([   0.     ,   51.23292,  102.46584,  153.69876,  204.93168,\n",
       "         256.1646 ,  307.39752,  358.63044,  409.86336,  461.09628,\n",
       "         512.3292 ]),\n",
       " <a list of 10 Patch objects>)"
      ]
     },
     "execution_count": 42,
     "metadata": {},
     "output_type": "execute_result"
    },
    {
     "data": {
      "image/png": "[encoded data removed]",
      "text/plain": [
       "<matplotlib.figure.Figure at 0x10657a6a0>"
      ]
     },
     "metadata": {},
     "output_type": "display_data"
    }
   ],
   "source": [
    "plt.hist(titanic['fare'])"
   ]
  },
  {
   "cell_type": "code",
   "execution_count": 43,
   "metadata": {},
   "outputs": [
    {
     "name": "stdout",
     "output_type": "stream",
     "text": [
      "1    18\n",
      "0     8\n",
      "Name: survived, dtype: int64\n",
      "0    555\n",
      "1    335\n",
      "Name: survived, dtype: int64\n"
     ]
    }
   ],
   "source": [
    "rich_group = titanic[titanic['fare'] > 200]\n",
    "n_rich_group = titanic[titanic['fare'] <= 200]\n",
    "print(rich_group['survived'].value_counts())\n",
    "print(n_rich_group['survived'].value_counts()) # 이상치 그룹의 생존률을 살펴본 결과, 이상치라기 보다는 유의미한 explode 값으로 보임"
   ]
  },
  {
   "cell_type": "markdown",
   "metadata": {},
   "source": [
    "-----"
   ]
  },
  {
   "cell_type": "markdown",
   "metadata": {},
   "source": [
    "#### 변수간의 상관성 검증\n",
    "\n",
    "- 연속형 변수간의 상관관계 없음"
   ]
  },
  {
   "cell_type": "code",
   "execution_count": 44,
   "metadata": {},
   "outputs": [
    {
     "data": {
      "image/png": "[encoded data removed]",
      "text/plain": [
       "<matplotlib.figure.Figure at 0x10e3f4240>"
      ]
     },
     "metadata": {},
     "output_type": "display_data"
    }
   ],
   "source": [
    "cols = ['age', 'sibsp', 'parch', 'fare']\n",
    "\n",
    "cm = np.corrcoef(titanic[['age', 'sibsp', 'parch', 'fare']].values.T)\n",
    "sns.set(font_scale=0.8)\n",
    "hm = sns.heatmap(cm,\n",
    "            cbar=True,\n",
    "            annot=True,\n",
    "            square=True,\n",
    "            fmt='.2f',\n",
    "            annot_kws={'size': 15},\n",
    "            yticklabels=cols,\n",
    "            xticklabels=cols)\n",
    "\n",
    "plt.tight_layout()\n",
    "plt.show()"
   ]
  },
  {
   "cell_type": "markdown",
   "metadata": {},
   "source": [
    "-----"
   ]
  },
  {
   "cell_type": "markdown",
   "metadata": {},
   "source": [
    "#### 평균값으로 보정한 age값을 regression으로 정교화"
   ]
  },
  {
   "cell_type": "code",
   "execution_count": 45,
   "metadata": {},
   "outputs": [
    {
     "data": {
      "text/html": [
       "<div>\n",
       "<style scoped>\n",
       "    .dataframe tbody tr th:only-of-type {\n",
       "        vertical-align: middle;\n",
       "    }\n",
       "\n",
       "    .dataframe tbody tr th {\n",
       "        vertical-align: top;\n",
       "    }\n",
       "\n",
       "    .dataframe thead th {\n",
       "        text-align: right;\n",
       "    }\n",
       "</style>\n",
       "<table border=\"1\" class=\"dataframe\">\n",
       "  <thead>\n",
       "    <tr style=\"text-align: right;\">\n",
       "      <th></th>\n",
       "      <th>survived</th>\n",
       "      <th>sex</th>\n",
       "      <th>age</th>\n",
       "      <th>sibsp</th>\n",
       "      <th>parch</th>\n",
       "      <th>fare</th>\n",
       "      <th>C</th>\n",
       "      <th>Q</th>\n",
       "      <th>S</th>\n",
       "      <th>A</th>\n",
       "      <th>...</th>\n",
       "      <th>X</th>\n",
       "      <th>A</th>\n",
       "      <th>B</th>\n",
       "      <th>C</th>\n",
       "      <th>D</th>\n",
       "      <th>E</th>\n",
       "      <th>F</th>\n",
       "      <th>1</th>\n",
       "      <th>2</th>\n",
       "      <th>3</th>\n",
       "    </tr>\n",
       "  </thead>\n",
       "  <tbody>\n",
       "    <tr>\n",
       "      <th>0</th>\n",
       "      <td>1</td>\n",
       "      <td>1</td>\n",
       "      <td>13.0</td>\n",
       "      <td>0</td>\n",
       "      <td>1</td>\n",
       "      <td>19.5000</td>\n",
       "      <td>0</td>\n",
       "      <td>0</td>\n",
       "      <td>1</td>\n",
       "      <td>0</td>\n",
       "      <td>...</td>\n",
       "      <td>1</td>\n",
       "      <td>0</td>\n",
       "      <td>0</td>\n",
       "      <td>0</td>\n",
       "      <td>0</td>\n",
       "      <td>0</td>\n",
       "      <td>1</td>\n",
       "      <td>0</td>\n",
       "      <td>1</td>\n",
       "      <td>0</td>\n",
       "    </tr>\n",
       "    <tr>\n",
       "      <th>1</th>\n",
       "      <td>1</td>\n",
       "      <td>1</td>\n",
       "      <td>4.0</td>\n",
       "      <td>1</td>\n",
       "      <td>1</td>\n",
       "      <td>23.0000</td>\n",
       "      <td>0</td>\n",
       "      <td>0</td>\n",
       "      <td>1</td>\n",
       "      <td>0</td>\n",
       "      <td>...</td>\n",
       "      <td>1</td>\n",
       "      <td>0</td>\n",
       "      <td>0</td>\n",
       "      <td>0</td>\n",
       "      <td>0</td>\n",
       "      <td>0</td>\n",
       "      <td>1</td>\n",
       "      <td>0</td>\n",
       "      <td>1</td>\n",
       "      <td>0</td>\n",
       "    </tr>\n",
       "    <tr>\n",
       "      <th>2</th>\n",
       "      <td>1</td>\n",
       "      <td>1</td>\n",
       "      <td>30.0</td>\n",
       "      <td>1</td>\n",
       "      <td>0</td>\n",
       "      <td>13.8583</td>\n",
       "      <td>1</td>\n",
       "      <td>0</td>\n",
       "      <td>0</td>\n",
       "      <td>0</td>\n",
       "      <td>...</td>\n",
       "      <td>1</td>\n",
       "      <td>0</td>\n",
       "      <td>0</td>\n",
       "      <td>0</td>\n",
       "      <td>0</td>\n",
       "      <td>0</td>\n",
       "      <td>1</td>\n",
       "      <td>0</td>\n",
       "      <td>1</td>\n",
       "      <td>0</td>\n",
       "    </tr>\n",
       "    <tr>\n",
       "      <th>4</th>\n",
       "      <td>1</td>\n",
       "      <td>1</td>\n",
       "      <td>22.0</td>\n",
       "      <td>0</td>\n",
       "      <td>0</td>\n",
       "      <td>7.7250</td>\n",
       "      <td>0</td>\n",
       "      <td>1</td>\n",
       "      <td>0</td>\n",
       "      <td>0</td>\n",
       "      <td>...</td>\n",
       "      <td>1</td>\n",
       "      <td>0</td>\n",
       "      <td>0</td>\n",
       "      <td>0</td>\n",
       "      <td>0</td>\n",
       "      <td>0</td>\n",
       "      <td>1</td>\n",
       "      <td>0</td>\n",
       "      <td>0</td>\n",
       "      <td>1</td>\n",
       "    </tr>\n",
       "    <tr>\n",
       "      <th>6</th>\n",
       "      <td>1</td>\n",
       "      <td>1</td>\n",
       "      <td>30.0</td>\n",
       "      <td>0</td>\n",
       "      <td>0</td>\n",
       "      <td>56.9292</td>\n",
       "      <td>1</td>\n",
       "      <td>0</td>\n",
       "      <td>0</td>\n",
       "      <td>0</td>\n",
       "      <td>...</td>\n",
       "      <td>0</td>\n",
       "      <td>0</td>\n",
       "      <td>0</td>\n",
       "      <td>0</td>\n",
       "      <td>0</td>\n",
       "      <td>0</td>\n",
       "      <td>1</td>\n",
       "      <td>1</td>\n",
       "      <td>0</td>\n",
       "      <td>0</td>\n",
       "    </tr>\n",
       "  </tbody>\n",
       "</table>\n",
       "<p>5 rows × 25 columns</p>\n",
       "</div>"
      ],
      "text/plain": [
       "   survived  sex   age  sibsp  parch     fare  C  Q  S  A ...  X  A  B  C  D  \\\n",
       "0         1    1  13.0      0      1  19.5000  0  0  1  0 ...  1  0  0  0  0   \n",
       "1         1    1   4.0      1      1  23.0000  0  0  1  0 ...  1  0  0  0  0   \n",
       "2         1    1  30.0      1      0  13.8583  1  0  0  0 ...  1  0  0  0  0   \n",
       "4         1    1  22.0      0      0   7.7250  0  1  0  0 ...  1  0  0  0  0   \n",
       "6         1    1  30.0      0      0  56.9292  1  0  0  0 ...  0  0  0  0  0   \n",
       "\n",
       "   E  F  1  2  3  \n",
       "0  0  1  0  1  0  \n",
       "1  0  1  0  1  0  \n",
       "2  0  1  0  1  0  \n",
       "4  0  1  0  0  1  \n",
       "6  0  1  1  0  0  \n",
       "\n",
       "[5 rows x 25 columns]"
      ]
     },
     "execution_count": 45,
     "metadata": {},
     "output_type": "execute_result"
    }
   ],
   "source": [
    "titanic = pd.read_csv(\"dataset/titanic_dataset.csv\")\n",
    "titanic = titanic.drop(['ticket', 'body', 'home.dest'], axis=1)\n",
    "\n",
    "# sex : male은 0, female은 1로 변환\n",
    "titanic.loc[titanic['sex']=='male', 'sex'] = 0\n",
    "titanic.loc[titanic['sex']=='female', 'sex'] = 1\n",
    "\n",
    "# embark : 2개의 결측값은 최빈값으로 대체하고, one hot encoding 적용\n",
    "embarked_mode = titanic['embarked'].value_counts().index[0]\n",
    "titanic['embarked'] = titanic['embarked'].fillna(embarked_mode)\n",
    "\n",
    "df_one_hot_encoded = pd.get_dummies(titanic.embarked)\n",
    "titanic = pd.concat([titanic, df_one_hot_encoded], axis=1)\n",
    "titanic = titanic.drop(['embarked'], axis=1)\n",
    "\n",
    "# cabin : 없는 경우, G나 T는 X로 대체한 뒤 one hot encoding 적용\n",
    "titanic['cabin'] = titanic['cabin'].fillna('X')\n",
    "titanic['cabin'] = titanic['cabin'].apply(lambda x: x[0])\n",
    "titanic['cabin'] = titanic['cabin'].replace({\"G\":\"X\", \"T\":\"X\"})\n",
    "\n",
    "df_one_hot_encoded = pd.get_dummies(titanic.cabin)\n",
    "titanic = pd.concat([titanic, df_one_hot_encoded], axis=1)\n",
    "titanic = titanic.drop(['cabin'], axis=1)\n",
    "\n",
    "# 호칭에 따라 등급을 분류하는 함수. 같은 호칭을 부르는 말은 같은 grade로 통합\n",
    "def mr_grade(row):\n",
    "    # 명예직\n",
    "    if 'Rev.' in row:\n",
    "        return \"A\"\n",
    "    elif 'Col.' in row:\n",
    "        return \"A\"\n",
    "    elif 'Major.' in row:\n",
    "        return \"A\"\n",
    "    elif 'Dr.' in row:\n",
    "        return \"A\"\n",
    "    elif 'Capt.' in row:\n",
    "        return \"A\"\n",
    "    elif 'Sir.' in row:\n",
    "        return \"A\"\n",
    "    # 여성\n",
    "    elif 'Ms.' in row:\n",
    "        return \"B\"\n",
    "    elif 'Mme.' in row:\n",
    "        return \"B\"\n",
    "    elif 'Mrs.' in row:\n",
    "        return \"B\"\n",
    "    elif 'Dona.' in row:\n",
    "        return \"D\"\n",
    "    # 귀족, 작위\n",
    "    elif 'Jonkheer.' in row:\n",
    "        return \"C\"\n",
    "    elif 'Countess.' in row:\n",
    "        return \"C\"\n",
    "    # 남성\n",
    "    elif 'Mr.' in row:\n",
    "        return \"D\"\n",
    "    elif 'Don.' in row:\n",
    "        return \"D\"\n",
    "    # 젊은남성\n",
    "    elif 'Master.' in row:\n",
    "        return \"E\"\n",
    "    # 젊은여성\n",
    "    elif 'Miss.' in row:\n",
    "        return \"F\"\n",
    "    elif 'Mlle.' in row:\n",
    "        return \"F\"\n",
    "    elif 'Lady.' in row:\n",
    "        return \"F\"\n",
    "    else:\n",
    "        return \"G\"\n",
    "\n",
    "# name_grade 피처 생성하고 one-hot encoding 적용\n",
    "titanic['name'] = titanic.apply(lambda row: mr_grade(row['name']), axis=1)\n",
    "\n",
    "df_one_hot_encoded = pd.get_dummies(titanic.name)\n",
    "titanic = pd.concat([titanic, df_one_hot_encoded], axis=1)\n",
    "titanic = titanic.drop(['name'], axis=1)\n",
    "\n",
    "# pclass one-hot encoding 적용\n",
    "df_one_hot_encoded = pd.get_dummies(titanic.pclass)\n",
    "titanic = pd.concat([titanic, df_one_hot_encoded], axis=1)\n",
    "titanic = titanic.drop(['pclass'], axis=1)\n",
    "\n",
    "titanic.head()\n",
    "\n",
    "# 결측이 있는 데이터, 없는 데이터로 분리\n",
    "titanic = titanic[titanic['age'].notnull()]\n",
    "no_age_titanic = titanic[titanic['age'].isnull()]\n",
    "\n",
    "titanic.head()"
   ]
  },
  {
   "cell_type": "markdown",
   "metadata": {},
   "source": [
    "- 모든 피처로 regression 모델 학습 : 결과는 예측 실패"
   ]
  },
  {
   "cell_type": "code",
   "execution_count": 46,
   "metadata": {
    "scrolled": true
   },
   "outputs": [
    {
     "name": "stdout",
     "output_type": "stream",
     "text": [
      "Mean squared error: 110.90\n",
      "Variance score: 0.42\n",
      " 1) fare                           0.241547\n",
      " 2) 1                              0.135881\n",
      " 3) E                              0.130799\n",
      " 4) parch                          0.117667\n",
      " 5) F                              0.074520\n",
      " 6) 3                              0.060998\n",
      " 7) sibsp                          0.040641\n",
      " 8) survived                       0.027260\n",
      " 9) B                              0.019212\n",
      "10) C                              0.019015\n",
      "11) S                              0.017678\n",
      "12) D                              0.016237\n",
      "13) Q                              0.013288\n",
      "14) 2                              0.012565\n",
      "15) C                              0.012249\n",
      "16) B                              0.011169\n",
      "17) E                              0.009590\n",
      "18) sex                            0.008768\n",
      "19) A                              0.008626\n",
      "20) X                              0.007506\n",
      "21) A                              0.006680\n",
      "22) D                              0.005020\n",
      "23) F                              0.001962\n",
      "24) C                              0.001122\n"
     ]
    }
   ],
   "source": [
    "# train, validation set 분리.\n",
    "from sklearn.model_selection import train_test_split\n",
    "train, valid = train_test_split(titanic, test_size=0.2, random_state=0)\n",
    "\n",
    "train_y = train['age']\n",
    "train_x = train.drop(['age'], axis=1)\n",
    "\n",
    "valid_y = valid['age']\n",
    "valid_x = valid.drop(['age'], axis=1)\n",
    "\n",
    "# Randomforest Regressor 학습\n",
    "from sklearn.ensemble import RandomForestRegressor\n",
    "from sklearn.metrics import mean_squared_error, r2_score\n",
    "\n",
    "regr = RandomForestRegressor()\n",
    "regr.fit(train_x, train_y)\n",
    "pred_y = regr.predict(valid_x)\n",
    "\n",
    "print(\"Mean squared error: %.2f\"% mean_squared_error(valid_y, pred_y))\n",
    "print('Variance score: %.2f' % r2_score(valid_y, pred_y))\n",
    "\n",
    "importances = regr.feature_importances_\n",
    "feat_labels = train_x.columns.values\n",
    "indices = np.argsort(importances)[::-1]\n",
    "for f in range(train_x.shape[1]):\n",
    "    print(\"%2d) %-*s %f\" % (f + 1, 30, feat_labels[indices[f]], importances[indices[f]]))"
   ]
  },
  {
   "cell_type": "markdown",
   "metadata": {},
   "source": [
    "- 피처를 다시 선택하여 학습 : 결과는 처참"
   ]
  },
  {
   "cell_type": "code",
   "execution_count": 47,
   "metadata": {},
   "outputs": [
    {
     "name": "stdout",
     "output_type": "stream",
     "text": [
      "Mean squared error: 164.83\n",
      "Variance score: 0.14\n",
      " 1) fare                           0.630726\n",
      " 2) parch                          0.184437\n",
      " 3) sibsp                          0.122845\n",
      " 4) survived                       0.061992\n"
     ]
    }
   ],
   "source": [
    "titanic = titanic[['survived', 'age', 'sibsp', 'parch', 'fare']]\n",
    "\n",
    "# train, validation set 분리.\n",
    "train, valid = train_test_split(titanic, test_size=0.2, random_state=0)\n",
    "\n",
    "train_y = train['age']\n",
    "train_x = train.drop(['age'], axis=1)\n",
    "\n",
    "valid_y = valid['age']\n",
    "valid_x = valid.drop(['age'], axis=1)\n",
    "\n",
    "# Randomforest Regressor 학습\n",
    "from sklearn.ensemble import RandomForestRegressor\n",
    "from sklearn.metrics import mean_squared_error, r2_score\n",
    "\n",
    "regr = RandomForestRegressor()\n",
    "regr.fit(train_x, train_y)\n",
    "pred_y = regr.predict(valid_x)\n",
    "\n",
    "print(\"Mean squared error: %.2f\"% mean_squared_error(valid_y, pred_y))\n",
    "print('Variance score: %.2f' % r2_score(valid_y, pred_y))\n",
    "\n",
    "importances = regr.feature_importances_\n",
    "feat_labels = train_x.columns.values\n",
    "indices = np.argsort(importances)[::-1]\n",
    "for f in range(train_x.shape[1]):\n",
    "    print(\"%2d) %-*s %f\" % (f + 1, 30, feat_labels[indices[f]], importances[indices[f]]))"
   ]
  },
  {
   "cell_type": "markdown",
   "metadata": {},
   "source": [
    "- age는 prediction 하여 결측값을 처리하는 것이 불가능하다고 판단."
   ]
  },
  {
   "cell_type": "markdown",
   "metadata": {},
   "source": [
    "-----"
   ]
  },
  {
   "cell_type": "markdown",
   "metadata": {},
   "source": [
    "-----"
   ]
  },
  {
   "cell_type": "markdown",
   "metadata": {},
   "source": [
    "### 8. 3차 학습"
   ]
  },
  {
   "cell_type": "markdown",
   "metadata": {},
   "source": [
    "- age 변수에 변화 : 결측값을 제대로 보정하기 힘들기 때문에 결측값을 제외하고 학습 (평가시에만 평균 보정)\n",
    "- 통계적인 의미는 없었지만, child와 non-child로 구분하는 것이 의미가 있을 것이란 가설을 세우고 실험 진행\n",
    "- fare 변수에 변화 : rich와 non-rich로 구분하는 것이 의미가 있을 것이란 가설을 세우고 실험 진행"
   ]
  },
  {
   "cell_type": "code",
   "execution_count": 48,
   "metadata": {},
   "outputs": [
    {
     "name": "stdout",
     "output_type": "stream",
     "text": [
      "Index(['survived',      'sex',    'sibsp',    'parch',    'child',    'royal',\n",
      "              'C',        'Q',        'S',        'A',        'B',        'C',\n",
      "              'D',        'E',        'F',        'X',        'A',        'B',\n",
      "              'C',        'D',        'E',        'F',          1,          2,\n",
      "                3],\n",
      "      dtype='object')\n"
     ]
    },
    {
     "data": {
      "text/html": [
       "<div>\n",
       "<style scoped>\n",
       "    .dataframe tbody tr th:only-of-type {\n",
       "        vertical-align: middle;\n",
       "    }\n",
       "\n",
       "    .dataframe tbody tr th {\n",
       "        vertical-align: top;\n",
       "    }\n",
       "\n",
       "    .dataframe thead th {\n",
       "        text-align: right;\n",
       "    }\n",
       "</style>\n",
       "<table border=\"1\" class=\"dataframe\">\n",
       "  <thead>\n",
       "    <tr style=\"text-align: right;\">\n",
       "      <th></th>\n",
       "      <th>survived</th>\n",
       "      <th>sex</th>\n",
       "      <th>sibsp</th>\n",
       "      <th>parch</th>\n",
       "      <th>child</th>\n",
       "      <th>royal</th>\n",
       "      <th>C1</th>\n",
       "      <th>Q</th>\n",
       "      <th>S</th>\n",
       "      <th>A1</th>\n",
       "      <th>...</th>\n",
       "      <th>X</th>\n",
       "      <th>A2</th>\n",
       "      <th>B2</th>\n",
       "      <th>C3</th>\n",
       "      <th>D2</th>\n",
       "      <th>E2</th>\n",
       "      <th>F2</th>\n",
       "      <th>1</th>\n",
       "      <th>2</th>\n",
       "      <th>3</th>\n",
       "    </tr>\n",
       "  </thead>\n",
       "  <tbody>\n",
       "    <tr>\n",
       "      <th>0</th>\n",
       "      <td>1</td>\n",
       "      <td>1</td>\n",
       "      <td>0</td>\n",
       "      <td>1</td>\n",
       "      <td>1</td>\n",
       "      <td>1</td>\n",
       "      <td>0</td>\n",
       "      <td>0</td>\n",
       "      <td>1</td>\n",
       "      <td>0</td>\n",
       "      <td>...</td>\n",
       "      <td>1</td>\n",
       "      <td>0</td>\n",
       "      <td>0</td>\n",
       "      <td>0</td>\n",
       "      <td>0</td>\n",
       "      <td>0</td>\n",
       "      <td>1</td>\n",
       "      <td>0</td>\n",
       "      <td>1</td>\n",
       "      <td>0</td>\n",
       "    </tr>\n",
       "    <tr>\n",
       "      <th>1</th>\n",
       "      <td>1</td>\n",
       "      <td>1</td>\n",
       "      <td>1</td>\n",
       "      <td>1</td>\n",
       "      <td>1</td>\n",
       "      <td>1</td>\n",
       "      <td>0</td>\n",
       "      <td>0</td>\n",
       "      <td>1</td>\n",
       "      <td>0</td>\n",
       "      <td>...</td>\n",
       "      <td>1</td>\n",
       "      <td>0</td>\n",
       "      <td>0</td>\n",
       "      <td>0</td>\n",
       "      <td>0</td>\n",
       "      <td>0</td>\n",
       "      <td>1</td>\n",
       "      <td>0</td>\n",
       "      <td>1</td>\n",
       "      <td>0</td>\n",
       "    </tr>\n",
       "    <tr>\n",
       "      <th>2</th>\n",
       "      <td>1</td>\n",
       "      <td>1</td>\n",
       "      <td>1</td>\n",
       "      <td>0</td>\n",
       "      <td>0</td>\n",
       "      <td>1</td>\n",
       "      <td>1</td>\n",
       "      <td>0</td>\n",
       "      <td>0</td>\n",
       "      <td>0</td>\n",
       "      <td>...</td>\n",
       "      <td>1</td>\n",
       "      <td>0</td>\n",
       "      <td>0</td>\n",
       "      <td>0</td>\n",
       "      <td>0</td>\n",
       "      <td>0</td>\n",
       "      <td>1</td>\n",
       "      <td>0</td>\n",
       "      <td>1</td>\n",
       "      <td>0</td>\n",
       "    </tr>\n",
       "    <tr>\n",
       "      <th>4</th>\n",
       "      <td>1</td>\n",
       "      <td>1</td>\n",
       "      <td>0</td>\n",
       "      <td>0</td>\n",
       "      <td>0</td>\n",
       "      <td>0</td>\n",
       "      <td>0</td>\n",
       "      <td>1</td>\n",
       "      <td>0</td>\n",
       "      <td>0</td>\n",
       "      <td>...</td>\n",
       "      <td>1</td>\n",
       "      <td>0</td>\n",
       "      <td>0</td>\n",
       "      <td>0</td>\n",
       "      <td>0</td>\n",
       "      <td>0</td>\n",
       "      <td>1</td>\n",
       "      <td>0</td>\n",
       "      <td>0</td>\n",
       "      <td>1</td>\n",
       "    </tr>\n",
       "    <tr>\n",
       "      <th>6</th>\n",
       "      <td>1</td>\n",
       "      <td>1</td>\n",
       "      <td>0</td>\n",
       "      <td>0</td>\n",
       "      <td>0</td>\n",
       "      <td>1</td>\n",
       "      <td>1</td>\n",
       "      <td>0</td>\n",
       "      <td>0</td>\n",
       "      <td>0</td>\n",
       "      <td>...</td>\n",
       "      <td>0</td>\n",
       "      <td>0</td>\n",
       "      <td>0</td>\n",
       "      <td>0</td>\n",
       "      <td>0</td>\n",
       "      <td>0</td>\n",
       "      <td>1</td>\n",
       "      <td>1</td>\n",
       "      <td>0</td>\n",
       "      <td>0</td>\n",
       "    </tr>\n",
       "  </tbody>\n",
       "</table>\n",
       "<p>5 rows × 25 columns</p>\n",
       "</div>"
      ],
      "text/plain": [
       "   survived  sex  sibsp  parch  child  royal  C1  Q  S  A1 ...  X  A2  B2  C3  \\\n",
       "0         1    1      0      1      1      1   0  0  1   0 ...  1   0   0   0   \n",
       "1         1    1      1      1      1      1   0  0  1   0 ...  1   0   0   0   \n",
       "2         1    1      1      0      0      1   1  0  0   0 ...  1   0   0   0   \n",
       "4         1    1      0      0      0      0   0  1  0   0 ...  1   0   0   0   \n",
       "6         1    1      0      0      0      1   1  0  0   0 ...  0   0   0   0   \n",
       "\n",
       "   D2  E2  F2  1  2  3  \n",
       "0   0   0   1  0  1  0  \n",
       "1   0   0   1  0  1  0  \n",
       "2   0   0   1  0  1  0  \n",
       "4   0   0   1  0  0  1  \n",
       "6   0   0   1  1  0  0  \n",
       "\n",
       "[5 rows x 25 columns]"
      ]
     },
     "execution_count": 48,
     "metadata": {},
     "output_type": "execute_result"
    }
   ],
   "source": [
    "titanic = pd.read_csv(\"dataset/titanic_dataset.csv\")\n",
    "titanic = titanic.drop(['ticket', 'body', 'home.dest'], axis=1)\n",
    "\n",
    "# age : 결측값을 제외하고 학습, child와 non-child로 구분하여 새로운 피처 생성\n",
    "titanic = titanic[titanic['age'].notnull()]\n",
    "titanic['child'] = 0\n",
    "titanic.loc[titanic['age'] < 18, 'child'] = 1\n",
    "titanic = titanic.drop(['age'], axis=1)\n",
    "\n",
    "# fare : rich와 non-rich로 구분하여 새로운 피처 생성\n",
    "titanic['royal'] = 0\n",
    "titanic.loc[titanic['fare'] > 10, 'royal'] = 1\n",
    "titanic = titanic.drop(['fare'], axis=1)\n",
    "\n",
    "# sex : male은 0, female은 1로 변환\n",
    "titanic.loc[titanic['sex']=='male', 'sex'] = 0\n",
    "titanic.loc[titanic['sex']=='female', 'sex'] = 1\n",
    "\n",
    "# embark : 2개의 결측값은 최빈값으로 대체하고, one hot encoding 적용\n",
    "embarked_mode = titanic['embarked'].value_counts().index[0]\n",
    "titanic['embarked'] = titanic['embarked'].fillna(embarked_mode)\n",
    "\n",
    "df_one_hot_encoded = pd.get_dummies(titanic.embarked)\n",
    "titanic = pd.concat([titanic, df_one_hot_encoded], axis=1)\n",
    "titanic = titanic.drop(['embarked'], axis=1)\n",
    "\n",
    "# cabin : 없는 경우, G나 T는 X로 대체한 뒤 one hot encoding 적용\n",
    "titanic['cabin'] = titanic['cabin'].fillna('X')\n",
    "titanic['cabin'] = titanic['cabin'].apply(lambda x: x[0])\n",
    "titanic['cabin'] = titanic['cabin'].replace({\"G\":\"X\", \"T\":\"X\"})\n",
    "\n",
    "df_one_hot_encoded = pd.get_dummies(titanic.cabin)\n",
    "titanic = pd.concat([titanic, df_one_hot_encoded], axis=1)\n",
    "titanic = titanic.drop(['cabin'], axis=1)\n",
    "\n",
    "# 호칭에 따라 등급을 분류하는 함수. 같은 호칭을 부르는 말은 같은 grade로 통합\n",
    "def mr_grade(row):\n",
    "    # 명예직\n",
    "    if 'Rev.' in row:\n",
    "        return \"A\"\n",
    "    elif 'Col.' in row:\n",
    "        return \"A\"\n",
    "    elif 'Major.' in row:\n",
    "        return \"A\"\n",
    "    elif 'Dr.' in row:\n",
    "        return \"A\"\n",
    "    elif 'Capt.' in row:\n",
    "        return \"A\"\n",
    "    elif 'Sir.' in row:\n",
    "        return \"A\"\n",
    "    # 여성\n",
    "    elif 'Ms.' in row:\n",
    "        return \"B\"\n",
    "    elif 'Mme.' in row:\n",
    "        return \"B\"\n",
    "    elif 'Mrs.' in row:\n",
    "        return \"B\"\n",
    "    elif 'Dona.' in row:\n",
    "        return \"D\"\n",
    "    # 귀족, 작위\n",
    "    elif 'Jonkheer.' in row:\n",
    "        return \"C\"\n",
    "    elif 'Countess.' in row:\n",
    "        return \"C\"\n",
    "    # 남성\n",
    "    elif 'Mr.' in row:\n",
    "        return \"D\"\n",
    "    elif 'Don.' in row:\n",
    "        return \"D\"\n",
    "    # 젊은남성\n",
    "    elif 'Master.' in row:\n",
    "        return \"E\"\n",
    "    # 젊은여성\n",
    "    elif 'Miss.' in row:\n",
    "        return \"F\"\n",
    "    elif 'Mlle.' in row:\n",
    "        return \"F\"\n",
    "    elif 'Lady.' in row:\n",
    "        return \"F\"\n",
    "    else:\n",
    "        return \"G\"\n",
    "\n",
    "# name_grade 피처 생성하고 one-hot encoding 적용\n",
    "titanic['name'] = titanic.apply(lambda row: mr_grade(row['name']), axis=1)\n",
    "\n",
    "df_one_hot_encoded = pd.get_dummies(titanic.name)\n",
    "titanic = pd.concat([titanic, df_one_hot_encoded], axis=1)\n",
    "titanic = titanic.drop(['name'], axis=1)\n",
    "\n",
    "# pclass one-hot encoding 적용\n",
    "df_one_hot_encoded = pd.get_dummies(titanic.pclass)\n",
    "titanic = pd.concat([titanic, df_one_hot_encoded], axis=1)\n",
    "titanic = titanic.drop(['pclass'], axis=1)\n",
    "\n",
    "print(titanic.columns)\n",
    "titanic.columns = ['survived',      'sex',    'sibsp',    'parch',    'child',    'royal',\n",
    "              'C1',        'Q',        'S',        'A1',        'B1',        'C2',\n",
    "              'D1',        'E1',        'F1',        'X',        'A2',        'B2',\n",
    "              'C3',        'D2',        'E2',        'F2',          1,          2,\n",
    "                3]\n",
    "titanic.head()"
   ]
  },
  {
   "cell_type": "code",
   "execution_count": 49,
   "metadata": {},
   "outputs": [],
   "source": [
    "from sklearn.model_selection import train_test_split\n",
    "train, valid = train_test_split(titanic, test_size=0.2, random_state=0)\n",
    "\n",
    "train_y = train['survived']\n",
    "train_x = train.drop(['survived'], axis=1)\n",
    "\n",
    "valid_y = valid['survived']\n",
    "valid_x = valid.drop(['survived'], axis=1)"
   ]
  },
  {
   "cell_type": "code",
   "execution_count": 50,
   "metadata": {},
   "outputs": [
    {
     "name": "stdout",
     "output_type": "stream",
     "text": [
      "Misclassification samples : 28\n"
     ]
    }
   ],
   "source": [
    "from sklearn.linear_model import LogisticRegression\n",
    "lr = LogisticRegression(C=1000.0, random_state=0)\n",
    "lr.fit(train_x, train_y)\n",
    "pred_y = lr.predict(valid_x)\n",
    "\n",
    "print(\"Misclassification samples : %d\" %(valid_y != pred_y).sum())"
   ]
  },
  {
   "cell_type": "code",
   "execution_count": 51,
   "metadata": {},
   "outputs": [
    {
     "name": "stdout",
     "output_type": "stream",
     "text": [
      "accuracy: 0.81\n",
      "Precision : 0.763\n",
      "Recall : 0.763\n",
      "F1 : 0.763\n"
     ]
    }
   ],
   "source": [
    "from sklearn.metrics import precision_score, recall_score, f1_score\n",
    "from sklearn.metrics import accuracy_score\n",
    "print(\"accuracy: %.2f\" %accuracy_score(valid_y, pred_y))\n",
    "print(\"Precision : %.3f\" % precision_score(valid_y, pred_y))\n",
    "print(\"Recall : %.3f\" % recall_score(valid_y, pred_y))\n",
    "print(\"F1 : %.3f\" % f1_score(valid_y, pred_y))"
   ]
  },
  {
   "cell_type": "markdown",
   "metadata": {},
   "source": [
    "-----"
   ]
  },
  {
   "cell_type": "markdown",
   "metadata": {},
   "source": [
    "---"
   ]
  },
  {
   "cell_type": "markdown",
   "metadata": {},
   "source": [
    "### 9. 추가적인 분류 모델 검증"
   ]
  },
  {
   "cell_type": "markdown",
   "metadata": {},
   "source": [
    "#### Decision Tree : logistic regression 보다 성능 낮음"
   ]
  },
  {
   "cell_type": "code",
   "execution_count": 52,
   "metadata": {},
   "outputs": [
    {
     "name": "stdout",
     "output_type": "stream",
     "text": [
      "Misclassification samples : 29\n"
     ]
    }
   ],
   "source": [
    "from sklearn import tree\n",
    "\n",
    "clf2 = tree.DecisionTreeClassifier()\n",
    "clf2.fit(train_x, train_y)\n",
    "pred_y = clf2.predict(valid_x)\n",
    "\n",
    "print(\"Misclassification samples : %d\" %(valid_y != pred_y).sum())"
   ]
  },
  {
   "cell_type": "code",
   "execution_count": 53,
   "metadata": {},
   "outputs": [
    {
     "name": "stdout",
     "output_type": "stream",
     "text": [
      "accuracy: 0.81\n",
      "Precision : 0.826\n",
      "Recall : 0.644\n",
      "F1 : 0.724\n"
     ]
    }
   ],
   "source": [
    "from sklearn.metrics import precision_score, recall_score, f1_score\n",
    "from sklearn.metrics import accuracy_score\n",
    "print(\"accuracy: %.2f\" %accuracy_score(valid_y, pred_y))\n",
    "print(\"Precision : %.3f\" % precision_score(valid_y, pred_y))\n",
    "print(\"Recall : %.3f\" % recall_score(valid_y, pred_y))\n",
    "print(\"F1 : %.3f\" % f1_score(valid_y, pred_y))"
   ]
  },
  {
   "cell_type": "code",
   "execution_count": 54,
   "metadata": {},
   "outputs": [
    {
     "data": {
      "image/png": "[encoded data removed]",
      "text/plain": [
       "<matplotlib.figure.Figure at 0x10f18e358>"
      ]
     },
     "metadata": {},
     "output_type": "display_data"
    }
   ],
   "source": [
    "import scikitplot as skplt\n",
    "skplt.metrics.plot_confusion_matrix(valid_y, pred_y, normalize=True)\n",
    "plt.show()"
   ]
  },
  {
   "cell_type": "markdown",
   "metadata": {},
   "source": [
    "---"
   ]
  },
  {
   "cell_type": "markdown",
   "metadata": {},
   "source": [
    "#### Random Forest Classifier"
   ]
  },
  {
   "cell_type": "markdown",
   "metadata": {},
   "source": [
    "- logistic regression 보다 성능 낮음"
   ]
  },
  {
   "cell_type": "code",
   "execution_count": 55,
   "metadata": {},
   "outputs": [
    {
     "name": "stdout",
     "output_type": "stream",
     "text": [
      "Misclassification samples : 32\n"
     ]
    }
   ],
   "source": [
    "from sklearn.ensemble import RandomForestClassifier\n",
    "\n",
    "clf3 = RandomForestClassifier(max_depth=3, random_state=0)\n",
    "clf3.fit(train_x, train_y)\n",
    "pred_y = clf3.predict(valid_x)\n",
    "\n",
    "print(\"Misclassification samples : %d\" %(valid_y != pred_y).sum())"
   ]
  },
  {
   "cell_type": "code",
   "execution_count": 56,
   "metadata": {},
   "outputs": [
    {
     "name": "stdout",
     "output_type": "stream",
     "text": [
      "accuracy: 0.79\n",
      "Precision : 0.765\n",
      "Recall : 0.661\n",
      "F1 : 0.709\n"
     ]
    }
   ],
   "source": [
    "from sklearn.metrics import precision_score, recall_score, f1_score\n",
    "from sklearn.metrics import accuracy_score\n",
    "print(\"accuracy: %.2f\" %accuracy_score(valid_y, pred_y))\n",
    "print(\"Precision : %.3f\" % precision_score(valid_y, pred_y))\n",
    "print(\"Recall : %.3f\" % recall_score(valid_y, pred_y))\n",
    "print(\"F1 : %.3f\" % f1_score(valid_y, pred_y))"
   ]
  },
  {
   "cell_type": "markdown",
   "metadata": {},
   "source": [
    "#### SVC & Xgboost"
   ]
  },
  {
   "cell_type": "code",
   "execution_count": 57,
   "metadata": {},
   "outputs": [
    {
     "name": "stdout",
     "output_type": "stream",
     "text": [
      "Misclassification samples : 28\n"
     ]
    }
   ],
   "source": [
    "from sklearn.svm import SVC\n",
    "clf4 = SVC(kernel='linear', C=1.0, random_state=0)\n",
    "\n",
    "clf4.fit(train_x, train_y)\n",
    "pred_y = clf4.predict(valid_x)\n",
    "\n",
    "print(\"Misclassification samples : %d\" %(valid_y != pred_y).sum())"
   ]
  },
  {
   "cell_type": "code",
   "execution_count": 58,
   "metadata": {},
   "outputs": [
    {
     "name": "stdout",
     "output_type": "stream",
     "text": [
      "accuracy: 0.81\n",
      "Precision : 0.763\n",
      "Recall : 0.763\n",
      "F1 : 0.763\n"
     ]
    }
   ],
   "source": [
    "from sklearn.metrics import precision_score, recall_score, f1_score\n",
    "from sklearn.metrics import accuracy_score\n",
    "print(\"accuracy: %.2f\" %accuracy_score(valid_y, pred_y))\n",
    "print(\"Precision : %.3f\" % precision_score(valid_y, pred_y))\n",
    "print(\"Recall : %.3f\" % recall_score(valid_y, pred_y))\n",
    "print(\"F1 : %.3f\" % f1_score(valid_y, pred_y))"
   ]
  },
  {
   "cell_type": "code",
   "execution_count": 59,
   "metadata": {},
   "outputs": [
    {
     "name": "stdout",
     "output_type": "stream",
     "text": [
      "Misclassification samples : 27\n"
     ]
    }
   ],
   "source": [
    "from xgboost import XGBClassifier\n",
    "\n",
    "clf5 = XGBClassifier()\n",
    "clf5.fit(train_x, train_y)\n",
    "pred_y = clf5.predict(valid_x)\n",
    "\n",
    "print(\"Misclassification samples : %d\" %(valid_y != pred_y).sum())"
   ]
  },
  {
   "cell_type": "code",
   "execution_count": 60,
   "metadata": {},
   "outputs": [
    {
     "name": "stdout",
     "output_type": "stream",
     "text": [
      "accuracy: 0.82\n",
      "Precision : 0.833\n",
      "Recall : 0.678\n",
      "F1 : 0.748\n"
     ]
    }
   ],
   "source": [
    "from sklearn.metrics import precision_score, recall_score, f1_score\n",
    "from sklearn.metrics import accuracy_score\n",
    "print(\"accuracy: %.2f\" %accuracy_score(valid_y, pred_y))\n",
    "print(\"Precision : %.3f\" % precision_score(valid_y, pred_y))\n",
    "print(\"Recall : %.3f\" % recall_score(valid_y, pred_y))\n",
    "print(\"F1 : %.3f\" % f1_score(valid_y, pred_y))"
   ]
  },
  {
   "cell_type": "markdown",
   "metadata": {},
   "source": [
    "-----"
   ]
  },
  {
   "cell_type": "markdown",
   "metadata": {},
   "source": [
    "-----"
   ]
  },
  {
   "cell_type": "markdown",
   "metadata": {},
   "source": [
    "### 10. 최종 모델 선택 후(xgboost), 교차검증을 통한 과적합 확인"
   ]
  },
  {
   "cell_type": "code",
   "execution_count": 63,
   "metadata": {},
   "outputs": [
    {
     "name": "stdout",
     "output_type": "stream",
     "text": [
      "[ 0.75        0.7         0.75        0.8         0.8         0.77966102\n",
      "  0.74576271  0.84482759  0.79310345  0.81034483]\n"
     ]
    }
   ],
   "source": [
    "from sklearn.model_selection import cross_val_score\n",
    "scores = cross_val_score(lr, train_x, train_y, cv=10)\n",
    "print(scores)"
   ]
  },
  {
   "cell_type": "code",
   "execution_count": 64,
   "metadata": {},
   "outputs": [
    {
     "name": "stdout",
     "output_type": "stream",
     "text": [
      "[ 0.8         0.71666667  0.71666667  0.78333333  0.81666667  0.77966102\n",
      "  0.72881356  0.81034483  0.77586207  0.79310345]\n"
     ]
    }
   ],
   "source": [
    "from sklearn.model_selection import cross_val_score\n",
    "scores = cross_val_score(clf2, train_x, train_y, cv=10)\n",
    "print(scores)"
   ]
  },
  {
   "cell_type": "code",
   "execution_count": 65,
   "metadata": {},
   "outputs": [
    {
     "name": "stdout",
     "output_type": "stream",
     "text": [
      "[ 0.78333333  0.78333333  0.8         0.78333333  0.8         0.79661017\n",
      "  0.77966102  0.79310345  0.79310345  0.81034483]\n"
     ]
    }
   ],
   "source": [
    "from sklearn.model_selection import cross_val_score\n",
    "scores = cross_val_score(clf3, train_x, train_y, cv=10)\n",
    "print(scores)"
   ]
  },
  {
   "cell_type": "code",
   "execution_count": 66,
   "metadata": {},
   "outputs": [
    {
     "name": "stdout",
     "output_type": "stream",
     "text": [
      "[ 0.7         0.65        0.75        0.8         0.75        0.81355932\n",
      "  0.81355932  0.74137931  0.79310345  0.74137931]\n"
     ]
    }
   ],
   "source": [
    "from sklearn.model_selection import cross_val_score\n",
    "scores = cross_val_score(clf4, train_x, train_y, cv=10)\n",
    "print(scores)"
   ]
  },
  {
   "cell_type": "code",
   "execution_count": 67,
   "metadata": {},
   "outputs": [
    {
     "name": "stdout",
     "output_type": "stream",
     "text": [
      "[ 0.8         0.76666667  0.75        0.78333333  0.81666667  0.77966102\n",
      "  0.76271186  0.84482759  0.82758621  0.77586207]\n"
     ]
    }
   ],
   "source": [
    "from sklearn.model_selection import cross_val_score\n",
    "scores = cross_val_score(clf5, train_x, train_y, cv=10)\n",
    "print(scores)"
   ]
  },
  {
   "cell_type": "code",
   "execution_count": 68,
   "metadata": {},
   "outputs": [
    {
     "data": {
      "image/png": "[encoded data removed]",
      "text/plain": [
       "<matplotlib.figure.Figure at 0x10ffec240>"
      ]
     },
     "metadata": {},
     "output_type": "display_data"
    }
   ],
   "source": [
    "import scikitplot as skplt\n",
    "skplt.estimators.plot_learning_curve(clf5, train_x, train_y)\n",
    "plt.show()"
   ]
  },
  {
   "cell_type": "markdown",
   "metadata": {},
   "source": [
    "-----"
   ]
  },
  {
   "cell_type": "markdown",
   "metadata": {},
   "source": [
    "-----"
   ]
  },
  {
   "cell_type": "markdown",
   "metadata": {},
   "source": [
    "### 11. 테스트셋으로 최종 평가"
   ]
  },
  {
   "cell_type": "code",
   "execution_count": 69,
   "metadata": {},
   "outputs": [],
   "source": [
    "titanic = pd.read_csv(\"dataset/titanic_answer.csv\")\n",
    "titanic = titanic.drop(['ticket', 'body', 'home.dest'], axis=1)\n",
    "\n",
    "# age : 결측값은 평균으로 보정, child와 non-child로 구분하여 새로운 피처 생성\n",
    "titanic['age'] = titanic['age'].fillna(titanic['age'].mean())\n",
    "titanic['child'] = 0\n",
    "titanic.loc[titanic['age'] < 18, 'child'] = 1\n",
    "titanic = titanic.drop(['age'], axis=1)\n",
    "\n",
    "# fare : rich와 non-rich로 구분하여 새로운 피처 생성\n",
    "titanic['royal'] = 0\n",
    "titanic.loc[titanic['fare'] > 10, 'royal'] = 1\n",
    "titanic = titanic.drop(['fare'], axis=1)\n",
    "\n",
    "# sex : male은 0, female은 1로 변환\n",
    "titanic.loc[titanic['sex']=='male', 'sex'] = 0\n",
    "titanic.loc[titanic['sex']=='female', 'sex'] = 1\n",
    "\n",
    "# embark : 2개의 결측값은 최빈값으로 대체하고, one hot encoding 적용\n",
    "embarked_mode = titanic['embarked'].value_counts().index[0]\n",
    "titanic['embarked'] = titanic['embarked'].fillna(embarked_mode)\n",
    "\n",
    "df_one_hot_encoded = pd.get_dummies(titanic.embarked)\n",
    "titanic = pd.concat([titanic, df_one_hot_encoded], axis=1)\n",
    "titanic = titanic.drop(['embarked'], axis=1)\n",
    "\n",
    "# cabin : 없는 경우, G나 T는 X로 대체한 뒤 one hot encoding 적용\n",
    "titanic['cabin'] = titanic['cabin'].fillna('X')\n",
    "titanic['cabin'] = titanic['cabin'].apply(lambda x: x[0])\n",
    "titanic['cabin'] = titanic['cabin'].replace({\"G\":\"X\", \"T\":\"X\"})\n",
    "\n",
    "df_one_hot_encoded = pd.get_dummies(titanic.cabin)\n",
    "titanic = pd.concat([titanic, df_one_hot_encoded], axis=1)\n",
    "titanic = titanic.drop(['cabin'], axis=1)\n",
    "\n",
    "# 호칭에 따라 등급을 분류하는 함수. 같은 호칭을 부르는 말은 같은 grade로 통합\n",
    "def mr_grade(row):\n",
    "    # 명예직\n",
    "    if 'Rev.' in row:\n",
    "        return \"A\"\n",
    "    elif 'Col.' in row:\n",
    "        return \"A\"\n",
    "    elif 'Major.' in row:\n",
    "        return \"A\"\n",
    "    elif 'Dr.' in row:\n",
    "        return \"A\"\n",
    "    elif 'Capt.' in row:\n",
    "        return \"A\"\n",
    "    elif 'Sir.' in row:\n",
    "        return \"A\"\n",
    "    # 여성\n",
    "    elif 'Ms.' in row:\n",
    "        return \"B\"\n",
    "    elif 'Mme.' in row:\n",
    "        return \"B\"\n",
    "    elif 'Mrs.' in row:\n",
    "        return \"B\"\n",
    "    elif 'Dona.' in row:\n",
    "        return \"D\"\n",
    "    # 귀족, 작위\n",
    "    elif 'Jonkheer.' in row:\n",
    "        return \"C\"\n",
    "    elif 'Countess.' in row:\n",
    "        return \"C\"\n",
    "    # 남성\n",
    "    elif 'Mr.' in row:\n",
    "        return \"D\"\n",
    "    elif 'Don.' in row:\n",
    "        return \"D\"\n",
    "    # 젊은남성\n",
    "    elif 'Master.' in row:\n",
    "        return \"E\"\n",
    "    # 젊은여성\n",
    "    elif 'Miss.' in row:\n",
    "        return \"F\"\n",
    "    elif 'Mlle.' in row:\n",
    "        return \"F\"\n",
    "    elif 'Lady.' in row:\n",
    "        return \"F\"\n",
    "    else:\n",
    "        return \"G\"\n",
    "\n",
    "# name_grade 피처 생성하고 one-hot encoding 적용\n",
    "titanic['name'] = titanic.apply(lambda row: mr_grade(row['name']), axis=1)\n",
    "\n",
    "df_one_hot_encoded = pd.get_dummies(titanic.name)\n",
    "titanic = pd.concat([titanic, df_one_hot_encoded], axis=1)\n",
    "titanic = titanic.drop(['name'], axis=1)\n",
    "\n",
    "# pclass one-hot encoding 적용\n",
    "df_one_hot_encoded = pd.get_dummies(titanic.pclass)\n",
    "titanic = pd.concat([titanic, df_one_hot_encoded], axis=1)\n",
    "titanic = titanic.drop(['pclass'], axis=1)\n",
    "\n",
    "titanic.columns = ['survived',      'sex',    'sibsp',    'parch',    'child',    'royal',\n",
    "              'C1',        'Q',        'S',        'A1',        'B1',        'C2',\n",
    "              'D1',        'E1',        'F1',        'X',        'A2',        'B2',\n",
    "              'D2',        'E2',        'F2',          1,          2,         3]\n",
    "#titanic['C3'] = 0\n",
    "titanic.insert(loc=18, column='C3', value=0)\n",
    "titanic.head()\n",
    "\n",
    "answer_y = titanic['survived']\n",
    "answer_x = titanic.drop(['survived'], axis=1)"
   ]
  },
  {
   "cell_type": "code",
   "execution_count": 75,
   "metadata": {},
   "outputs": [
    {
     "name": "stdout",
     "output_type": "stream",
     "text": [
      "Misclassification samples : 81\n",
      "accuracy: 0.79\n",
      "Precision : 0.758\n",
      "Recall : 0.660\n",
      "F1 : 0.705\n"
     ]
    }
   ],
   "source": [
    "pred_y = lr.predict(answer_x)\n",
    "print(\"Misclassification samples : %d\" %(answer_y != pred_y).sum())\n",
    "\n",
    "from sklearn.metrics import precision_score, recall_score, f1_score\n",
    "from sklearn.metrics import accuracy_score\n",
    "print(\"accuracy: %.2f\" %accuracy_score(answer_y, pred_y))\n",
    "print(\"Precision : %.3f\" % precision_score(answer_y, pred_y))\n",
    "print(\"Recall : %.3f\" % recall_score(answer_y, pred_y))\n",
    "print(\"F1 : %.3f\" % f1_score(answer_y, pred_y))"
   ]
  },
  {
   "cell_type": "code",
   "execution_count": 71,
   "metadata": {},
   "outputs": [
    {
     "name": "stdout",
     "output_type": "stream",
     "text": [
      "Misclassification samples : 90\n",
      "accuracy: 0.77\n",
      "Precision : 0.782\n",
      "Recall : 0.537\n",
      "F1 : 0.637\n"
     ]
    }
   ],
   "source": [
    "pred_y = clf2.predict(answer_x)\n",
    "print(\"Misclassification samples : %d\" %(answer_y != pred_y).sum())\n",
    "\n",
    "from sklearn.metrics import precision_score, recall_score, f1_score\n",
    "from sklearn.metrics import accuracy_score\n",
    "print(\"accuracy: %.2f\" %accuracy_score(answer_y, pred_y))\n",
    "print(\"Precision : %.3f\" % precision_score(answer_y, pred_y))\n",
    "print(\"Recall : %.3f\" % recall_score(answer_y, pred_y))\n",
    "print(\"F1 : %.3f\" % f1_score(answer_y, pred_y))"
   ]
  },
  {
   "cell_type": "code",
   "execution_count": 72,
   "metadata": {},
   "outputs": [
    {
     "name": "stdout",
     "output_type": "stream",
     "text": [
      "Misclassification samples : 79\n",
      "accuracy: 0.80\n",
      "Precision : 0.788\n",
      "Recall : 0.633\n",
      "F1 : 0.702\n"
     ]
    }
   ],
   "source": [
    "pred_y = clf3.predict(answer_x)\n",
    "print(\"Misclassification samples : %d\" %(answer_y != pred_y).sum())\n",
    "\n",
    "from sklearn.metrics import precision_score, recall_score, f1_score\n",
    "from sklearn.metrics import accuracy_score\n",
    "print(\"accuracy: %.2f\" %accuracy_score(answer_y, pred_y))\n",
    "print(\"Precision : %.3f\" % precision_score(answer_y, pred_y))\n",
    "print(\"Recall : %.3f\" % recall_score(answer_y, pred_y))\n",
    "print(\"F1 : %.3f\" % f1_score(answer_y, pred_y))"
   ]
  },
  {
   "cell_type": "code",
   "execution_count": 73,
   "metadata": {},
   "outputs": [
    {
     "name": "stdout",
     "output_type": "stream",
     "text": [
      "Misclassification samples : 79\n",
      "accuracy: 0.80\n",
      "Precision : 0.746\n",
      "Recall : 0.701\n",
      "F1 : 0.723\n"
     ]
    }
   ],
   "source": [
    "pred_y = clf4.predict(answer_x)\n",
    "print(\"Misclassification samples : %d\" %(answer_y != pred_y).sum())\n",
    "\n",
    "from sklearn.metrics import precision_score, recall_score, f1_score\n",
    "from sklearn.metrics import accuracy_score\n",
    "print(\"accuracy: %.2f\" %accuracy_score(answer_y, pred_y))\n",
    "print(\"Precision : %.3f\" % precision_score(answer_y, pred_y))\n",
    "print(\"Recall : %.3f\" % recall_score(answer_y, pred_y))\n",
    "print(\"F1 : %.3f\" % f1_score(answer_y, pred_y))"
   ]
  },
  {
   "cell_type": "code",
   "execution_count": 74,
   "metadata": {},
   "outputs": [
    {
     "name": "stdout",
     "output_type": "stream",
     "text": [
      "Misclassification samples : 80\n",
      "accuracy: 0.80\n",
      "Precision : 0.813\n",
      "Recall : 0.592\n",
      "F1 : 0.685\n"
     ]
    }
   ],
   "source": [
    "pred_y = clf5.predict(answer_x)\n",
    "print(\"Misclassification samples : %d\" %(answer_y != pred_y).sum())\n",
    "\n",
    "from sklearn.metrics import precision_score, recall_score, f1_score\n",
    "from sklearn.metrics import accuracy_score\n",
    "print(\"accuracy: %.2f\" %accuracy_score(answer_y, pred_y))\n",
    "print(\"Precision : %.3f\" % precision_score(answer_y, pred_y))\n",
    "print(\"Recall : %.3f\" % recall_score(answer_y, pred_y))\n",
    "print(\"F1 : %.3f\" % f1_score(answer_y, pred_y))"
   ]
  },
  {
   "cell_type": "markdown",
   "metadata": {},
   "source": [
    "# 결론 : SVC을 이용한 학습모델이 Best!"
   ]
  }
 ],
 "metadata": {
  "kernelspec": {
   "display_name": "Python 3",
   "language": "python",
   "name": "python3"
  },
  "language_info": {
   "codemirror_mode": {
    "name": "ipython",
    "version": 3
   },
   "file_extension": ".py",
   "mimetype": "text/x-python",
   "name": "python",
   "nbconvert_exporter": "python",
   "pygments_lexer": "ipython3",
   "version": "3.6.2"
  }
 },
 "nbformat": 4,
 "nbformat_minor": 2
}
